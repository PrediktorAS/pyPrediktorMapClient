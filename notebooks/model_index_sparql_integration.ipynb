{
 "cells": [
  {
   "cell_type": "code",
   "execution_count": null,
   "metadata": {},
   "outputs": [],
   "source": [
    "# Import the required packages and libraries\n",
    "import json\n",
    "import requests\n",
    "import datetime\n",
    "import pandas as pd\n",
    "import os\n",
    "from dotenv import load_dotenv \n",
    "from pathlib import Path\n",
    "import nest_asyncio\n",
    "\n",
    "nest_asyncio.apply()"
   ]
  },
  {
   "cell_type": "code",
   "execution_count": null,
   "metadata": {},
   "outputs": [],
   "source": [
    "from pyprediktormapclient.auth_client import AUTH_CLIENT\n",
    "from pyprediktormapclient.analytics_helper import AnalyticsHelper\n",
    "from pyprediktormapclient.shared import *"
   ]
  },
  {
   "cell_type": "code",
   "execution_count": null,
   "metadata": {},
   "outputs": [],
   "source": [
    "# Consider obtaining the envrionment variables from .env file if you are running this locally from source.\n",
    "dotenv_path = Path(\"../.env\")\n",
    "load_dotenv(dotenv_path=dotenv_path)"
   ]
  },
  {
   "cell_type": "code",
   "execution_count": null,
   "metadata": {},
   "outputs": [],
   "source": [
    "username = os.environ[\"USERNAME\"]\n",
    "password = os.environ[\"PASSWORD\"]\n",
    "opcua_rest_url = os.environ[\"OPC_UA_REST_URL\"]\n",
    "opcua_server_url = os.environ[\"OPC_UA_SERVER_URL\"]\n",
    "model_index_url = os.environ[\"MODEL_INDEX_URL\"]\n",
    "ory_url = os.environ[\"ORY_URL\"]"
   ]
  },
  {
   "cell_type": "code",
   "execution_count": null,
   "metadata": {},
   "outputs": [],
   "source": [
    "# Getting ory bearer token\n",
    "auth_client = AUTH_CLIENT(rest_url=ory_url, username=username, password=password)\n",
    "auth_client.request_new_ory_token()"
   ]
  },
  {
   "cell_type": "code",
   "execution_count": null,
   "metadata": {},
   "outputs": [],
   "source": [
    "url = model_index_url\n",
    "headers = {\"Content-Type\": \"application/json\",\n",
    "            \"Accept\": \"application/json\"\n",
    "            }\n",
    "auth_client = auth_client\n",
    "session: requests.Session = None"
   ]
  },
  {
   "cell_type": "code",
   "execution_count": null,
   "metadata": {},
   "outputs": [],
   "source": [
    "if auth_client is not None:\n",
    "    if auth_client.token is not None:\n",
    "        headers[\"Authorization\"] = f\"Bearer {auth_client.token.session_token}\"\n",
    "    if hasattr(auth_client, 'session_token'):\n",
    "        headers[\"Cookie\"] = f\"ory_kratos_session={auth_client.session_token}\"\n",
    "\n",
    "body = {\"Connection\": {\"Url\": url, \"AuthenticationType\": 1}}"
   ]
  },
  {
   "cell_type": "code",
   "execution_count": null,
   "metadata": {},
   "outputs": [],
   "source": [
    "def get_object_types() -> str:\n",
    "        content = request_from_api(url, \"GET\", \"query/object-types\", headers=headers, session=session)\n",
    "\n",
    "        return content"
   ]
  },
  {
   "cell_type": "code",
   "execution_count": null,
   "metadata": {},
   "outputs": [],
   "source": [
    "object_types = get_object_types()\n",
    "object_types"
   ]
  },
  {
   "cell_type": "code",
   "execution_count": null,
   "metadata": {},
   "outputs": [],
   "source": [
    "def get_namespace_array() -> str:\n",
    "        \"\"\"Get the namespace array\n",
    "\n",
    "        Returns:\n",
    "            str: the JSON returned from the server\n",
    "        \"\"\"\n",
    "        content = request_from_api(url, \"GET\", \"query/namespaces\", headers=headers, session=session)\n",
    "\n",
    "        return content"
   ]
  },
  {
   "cell_type": "code",
   "execution_count": null,
   "metadata": {},
   "outputs": [],
   "source": [
    "name_space_array = get_namespace_array()\n",
    "name_space_array"
   ]
  },
  {
   "cell_type": "code",
   "execution_count": null,
   "metadata": {},
   "outputs": [],
   "source": [
    "def get_object_type_id_from_name(type_name: str) -> str:\n",
    "        \"\"\"Get object type id from type name\n",
    "\n",
    "        Args:\n",
    "            type_name (str): type name\n",
    "\n",
    "        Returns:\n",
    "            str: the type id that corresponds with the id (None if not found)\n",
    "        \"\"\"\n",
    "        try:\n",
    "            obj_type = next(\n",
    "                item for item in object_types if item[\"BrowseName\"][\"Name\"] == type_name\n",
    "            )\n",
    "        except StopIteration:\n",
    "            obj_type = {}\n",
    "\n",
    "        if obj_type:\n",
    "            node_id = obj_type.get(\"NodeId\", {})\n",
    "            object_type_id = f'{node_id.get(\"Namespace\")}:{node_id.get(\"IdType\")}:{node_id.get(\"Id\")}'\n",
    "        else:\n",
    "            object_type_id = None\n",
    "\n",
    "        return object_type_id.split(':')"
   ]
  },
  {
   "cell_type": "code",
   "execution_count": null,
   "metadata": {},
   "outputs": [],
   "source": [
    "object_type_id = get_object_type_id_from_name(\"SiteType\")\n",
    "object_type_id"
   ]
  },
  {
   "cell_type": "code",
   "execution_count": null,
   "metadata": {},
   "outputs": [],
   "source": [
    "int(object_type_id[0])"
   ]
  },
  {
   "cell_type": "code",
   "execution_count": null,
   "metadata": {},
   "outputs": [],
   "source": [
    "def get_objects_of_type(type_name: str) -> str:\n",
    "        \"\"\"Function to get all the types of an object\n",
    "\n",
    "        Args:\n",
    "            type_name (str): type name\n",
    "\n",
    "        Returns:\n",
    "            A json-formatted string with the objects (or None if the type is not found)\n",
    "        \"\"\"\n",
    "        object_type_id = get_object_type_id_from_name(type_name)\n",
    "\n",
    "        if object_type_id is None:\n",
    "            return None\n",
    "        \n",
    "        namespace, id_type, id_ = object_type_id\n",
    "\n",
    "        body = json.dumps({\"Id\": int(id_), \"IdType\": int(id_type), \"Namespace\": int(namespace)})\n",
    "        content = request_from_api(url, \"POST\", \"query/objects-of-type-with-variables-and-properties\", body, headers=headers, session=session)\n",
    "\n",
    "        return content"
   ]
  },
  {
   "cell_type": "code",
   "execution_count": null,
   "metadata": {},
   "outputs": [],
   "source": [
    "objects_of_type = get_objects_of_type(\"SiteType\")\n",
    "objects_of_type"
   ]
  },
  {
   "cell_type": "code",
   "execution_count": null,
   "metadata": {},
   "outputs": [],
   "source": [
    "objects = AnalyticsHelper(objects_of_type)\n",
    "objects"
   ]
  },
  {
   "cell_type": "code",
   "execution_count": null,
   "metadata": {},
   "outputs": [],
   "source": [
    "objects.list_of_names()"
   ]
  },
  {
   "cell_type": "code",
   "execution_count": null,
   "metadata": {},
   "outputs": [],
   "source": [
    "objects.variables_as_dataframe()"
   ]
  },
  {
   "cell_type": "code",
   "execution_count": null,
   "metadata": {},
   "outputs": [],
   "source": [
    "site_id = objects.list_of_ids()[0]\n",
    "site_id"
   ]
  },
  {
   "cell_type": "code",
   "execution_count": null,
   "metadata": {},
   "outputs": [],
   "source": [
    "def get_objects_of_type_with_vars_and_pros(\n",
    "        type_name: str,\n",
    "\n",
    "    ) -> str:\n",
    "\n",
    "        # if type_name is None:\n",
    "        #     raise ValidationError(\"type_name cannot be None or empty\")\n",
    "    \n",
    "        type_id = get_object_type_id_from_name(type_name)\n",
    "\n",
    "        body = json.dumps(\n",
    "            {\n",
    "                \"FilterResultsByNamespaces\": {\n",
    "                    \"IdType\": 1,\n",
    "                    \"Values\": name_space_array\n",
    "                },\n",
    "                \"Id\": type_id[2],  \n",
    "                \"Namespace\": int(type_id[0]),\n",
    "                \"IdType\": int(type_id[1]),\n",
    "                \"Page\": 1,\n",
    "                \"PageSize\": 1\n",
    "            }\n",
    "        )\n",
    "        content = request_from_api(url, \"POST\", \"query/objects-of-type-with-variables-and-properties\", body, headers=headers, session=session)\n",
    "        return content"
   ]
  },
  {
   "cell_type": "code",
   "execution_count": null,
   "metadata": {},
   "outputs": [],
   "source": [
    "objects_of_type_vars_pros = get_objects_of_type_with_vars_and_pros(\"SiteType\")\n",
    "objects_of_type_vars_pros"
   ]
  },
  {
   "cell_type": "code",
   "execution_count": null,
   "metadata": {},
   "outputs": [],
   "source": [
    "objects_vars_pros = AnalyticsHelper(objects_of_type_vars_pros)\n",
    "objects_vars_pros"
   ]
  },
  {
   "cell_type": "code",
   "execution_count": null,
   "metadata": {},
   "outputs": [],
   "source": [
    "objects_vars_pros.variables_as_dataframe()"
   ]
  },
  {
   "cell_type": "code",
   "execution_count": null,
   "metadata": {},
   "outputs": [],
   "source": [
    "def get_object_descendants(\n",
    "\n",
    "        root_type_name: str,\n",
    "        type_name: str,\n",
    "\n",
    "    ) -> str:\n",
    "        \"\"\"Retrieve object descendants based on root and type names.\n",
    "\n",
    "        Args:\n",
    "\n",
    "            root_type_name (str): The type name of the root object.\n",
    "            type_name (str): The type name of the descendant object.\n",
    "\n",
    "\n",
    "        Returns:\n",
    "\n",
    "            str: A JSON-formatted string with descendants data of the selected object (or None if the type is not found).\n",
    "        \"\"\"\n",
    "\n",
    "        if root_type_name is None or not type_name:\n",
    "            raise ValidationError(\"root_type_name and type_name cannot be None or empty\")\n",
    "    \n",
    "        root_id = get_object_type_id_from_name(root_type_name)\n",
    "        type_id = get_object_type_id_from_name(type_name)\n",
    "\n",
    "        body = json.dumps(\n",
    "            {\n",
    "                \"FilterResultsByNamespaces\": {\n",
    "                    \"IdType\": 1,\n",
    "                    \"Values\": name_space_array\n",
    "                },\n",
    "                \"ReferenceTypeIds\": [\n",
    "                    {\n",
    "                        \"Id\": \"4003\",\n",
    "                        \"IdType\": 0,\n",
    "                        \"Namespace\": 1\n",
    "                    },\n",
    "                    {\n",
    "                        \"Id\": 4004,\n",
    "                        \"IdType\": 0,\n",
    "                        \"Namespace\": 1\n",
    "                    }\n",
    "                ],\n",
    "                \"RootNodeId\": {\n",
    "                    \"Id\": root_id[2],  \n",
    "                    \"IdType\": int(root_id[1]),\n",
    "                    \"Namespace\": int(root_id[0])\n",
    "                },\n",
    "                \"TypeNodeId\": {\n",
    "\n",
    "                    \"Id\": type_id[2],  \n",
    "                    \"IdType\": int(type_id[1]),\n",
    "                    \"Namespace\": int(type_id[0])\n",
    "\n",
    "                }\n",
    "            }\n",
    "\n",
    "        )\n",
    "        content = request_from_api(url, \"POST\", \"query/object-descendants?include_members=true&any_level=true\", body, headers=headers, session=session)\n",
    "\n",
    "\n",
    "        return content"
   ]
  },
  {
   "cell_type": "code",
   "execution_count": null,
   "metadata": {},
   "outputs": [],
   "source": [
    "object_descendants = get_object_descendants(\"StringCombinerType\", \"StringSetType\")\n",
    "object_descendants"
   ]
  },
  {
   "cell_type": "code",
   "execution_count": null,
   "metadata": {},
   "outputs": [],
   "source": [
    "object_descendants = get_object_descendants(\"SiteType\", \"SubSiteType\")\n",
    "object_descendants"
   ]
  },
  {
   "cell_type": "code",
   "execution_count": null,
   "metadata": {},
   "outputs": [],
   "source": [
    "descendants = AnalyticsHelper(object_descendants)\n",
    "descendants"
   ]
  },
  {
   "cell_type": "code",
   "execution_count": null,
   "metadata": {},
   "outputs": [],
   "source": [
    "descendants.dataframe"
   ]
  },
  {
   "cell_type": "code",
   "execution_count": null,
   "metadata": {},
   "outputs": [],
   "source": [
    "def get_object_ancestor(\n",
    "\n",
    "        root_type_name: str,\n",
    "        type_name: str,\n",
    "\n",
    "    ) -> str:\n",
    "        \"\"\"Retrieve object ancestor based on root and type names.\n",
    "\n",
    "        Args:\n",
    "\n",
    "            root_type_name (str): The type name of the root object.\n",
    "            type_name (str): The type name of the descendant object.\n",
    "\n",
    "\n",
    "        Returns:\n",
    "\n",
    "            str: A JSON-formatted string with descendants data of the selected object (or None if the type is not found).\n",
    "        \"\"\"\n",
    "\n",
    "        if root_type_name is None or not type_name:\n",
    "            raise ValidationError(\"root_type_name and type_name cannot be None or empty\")\n",
    "    \n",
    "        root_id = get_object_type_id_from_name(root_type_name)\n",
    "        type_id = get_object_type_id_from_name(type_name)\n",
    "\n",
    "        body = json.dumps(\n",
    "            {\n",
    "                \"FilterResultsByNamespaces\": {\n",
    "                    \"IdType\": 1,\n",
    "                    \"Values\": name_space_array\n",
    "                },\n",
    "                \"ReferenceTypeIds\": [\n",
    "                    {\n",
    "                        \"Id\": \"4003\",\n",
    "                        \"IdType\": 0,\n",
    "                        \"Namespace\": 1\n",
    "                    },\n",
    "                    {\n",
    "                        \"Id\": 4004,\n",
    "                        \"IdType\": 0,\n",
    "                        \"Namespace\": 1\n",
    "                    }\n",
    "                ],\n",
    "                \"RootNodeId\": {\n",
    "                    \"Id\": root_id[2],  \n",
    "                    \"IdType\": int(root_id[1]),\n",
    "                    \"Namespace\": int(root_id[0])\n",
    "                },\n",
    "                \"TypeNodeId\": {\n",
    "\n",
    "                    \"Id\": type_id[2],  \n",
    "                    \"IdType\": int(type_id[1]),\n",
    "                    \"Namespace\": int(type_id[0])\n",
    "\n",
    "                }\n",
    "            }\n",
    "\n",
    "        )\n",
    "        content = request_from_api(url, \"POST\", \"query/object-ancestors?include_members=true&any_level=true\", body, headers=headers, session=session)\n",
    "\n",
    "\n",
    "        return content"
   ]
  },
  {
   "cell_type": "code",
   "execution_count": null,
   "metadata": {},
   "outputs": [],
   "source": [
    "object_ancestor = get_object_ancestor(\"SubSiteType\", \"SiteType\")\n",
    "object_ancestor"
   ]
  },
  {
   "cell_type": "code",
   "execution_count": null,
   "metadata": {},
   "outputs": [],
   "source": [
    "{\n",
    "  \"FilterResultsByNamespaces\": {\n",
    "    \"IdType\": 1,\n",
    "    \"Values\": [\n",
    "      \"http://opcfoundation.org/UA/\",\n",
    "      \"http://prediktor.no/PVTypes/\",\n",
    "      \"http://scatecsolar.com/Enterprise\",\n",
    "      \"http://scatecsolar.com/JO-GL\"\n",
    "    ]\n",
    "  },\n",
    "  \"ReferenceTypeIds\": [\n",
    "    {\n",
    "      \"Id\": 4003,\n",
    "      \"IdType\": 0,\n",
    "      \"Namespace\": 1\n",
    "    },\n",
    "    {\n",
    "      \"Id\": 4004,\n",
    "      \"IdType\": 0,\n",
    "      \"Namespace\": 1\n",
    "    }\n",
    "  ],\n",
    "  \"RootNodeId\": {\n",
    "    \"Id\": \"1010\",\n",
    "    \"IdType\": 0,\n",
    "    \"Namespace\": 1\n",
    "  },\n",
    "  \"TypeNodeId\": {\n",
    "    \"Id\": 1011,\n",
    "    \"IdType\": 0,\n",
    "    \"Namespace\": 1\n",
    "  }\n",
    "}"
   ]
  }
 ],
 "metadata": {
  "kernelspec": {
   "display_name": ".venv_map_client",
   "language": "python",
   "name": "python3"
  },
  "language_info": {
   "codemirror_mode": {
    "name": "ipython",
    "version": 3
   },
   "file_extension": ".py",
   "mimetype": "text/x-python",
   "name": "python",
   "nbconvert_exporter": "python",
   "pygments_lexer": "ipython3",
   "version": "3.12.4"
  }
 },
 "nbformat": 4,
 "nbformat_minor": 2
}
