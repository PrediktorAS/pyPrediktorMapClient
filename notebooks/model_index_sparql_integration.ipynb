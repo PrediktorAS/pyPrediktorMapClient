{
 "cells": [
  {
   "cell_type": "code",
   "execution_count": null,
   "metadata": {},
   "outputs": [],
   "source": [
    "# Import the required packages and libraries\n",
    "import json\n",
    "import requests\n",
    "import datetime\n",
    "import pandas as pd\n",
    "import os\n",
    "from dotenv import load_dotenv \n",
    "from pathlib import Path\n",
    "import nest_asyncio\n",
    "\n",
    "nest_asyncio.apply()"
   ]
  },
  {
   "cell_type": "code",
   "execution_count": null,
   "metadata": {},
   "outputs": [],
   "source": [
    "from pyprediktormapclient.auth_client import AUTH_CLIENT\n",
    "from pyprediktormapclient.analytics_helper import AnalyticsHelper\n",
    "from pyprediktormapclient.shared import *"
   ]
  },
  {
   "cell_type": "code",
   "execution_count": null,
   "metadata": {},
   "outputs": [],
   "source": [
    "# Consider obtaining the envrionment variables from .env file if you are running this locally from source.\n",
    "dotenv_path = Path(\"../.env\")\n",
    "load_dotenv(dotenv_path=dotenv_path)"
   ]
  },
  {
   "cell_type": "code",
   "execution_count": null,
   "metadata": {},
   "outputs": [],
   "source": [
    "username = os.environ[\"USERNAME\"]\n",
    "password = os.environ[\"PASSWORD\"]\n",
    "opcua_rest_url = os.environ[\"OPC_UA_REST_URL\"]\n",
    "opcua_server_url = os.environ[\"OPC_UA_SERVER_URL\"]\n",
    "model_index_url = os.environ[\"MODEL_INDEX_URL\"]\n",
    "ory_url = os.environ[\"ORY_URL\"]"
   ]
  },
  {
   "cell_type": "code",
   "execution_count": null,
   "metadata": {},
   "outputs": [],
   "source": [
    "# Getting ory bearer token\n",
    "auth_client = AUTH_CLIENT(rest_url=ory_url, username=username, password=password)\n",
    "auth_client.request_new_ory_token()"
   ]
  },
  {
   "cell_type": "code",
   "execution_count": null,
   "metadata": {},
   "outputs": [],
   "source": [
    "url = model_index_url\n",
    "headers = {\"Content-Type\": \"application/json\",\n",
    "            \"Accept\": \"application/json\"\n",
    "            }\n",
    "auth_client = auth_client\n",
    "session: requests.Session = None"
   ]
  },
  {
   "cell_type": "code",
   "execution_count": null,
   "metadata": {},
   "outputs": [],
   "source": [
    "if auth_client is not None:\n",
    "    if auth_client.token is not None:\n",
    "        headers[\"Authorization\"] = f\"Bearer {auth_client.token.session_token}\"\n",
    "    if hasattr(auth_client, 'session_token'):\n",
    "        headers[\"Cookie\"] = f\"ory_kratos_session={auth_client.session_token}\"\n",
    "\n",
    "body = {\"Connection\": {\"Url\": url, \"AuthenticationType\": 1}}"
   ]
  },
  {
   "cell_type": "code",
   "execution_count": null,
   "metadata": {},
   "outputs": [],
   "source": [
    "def get_object_types() -> str:\n",
    "        content = request_from_api(url, \"GET\", \"query/object-types\", headers=headers, session=session)\n",
    "\n",
    "        return content"
   ]
  },
  {
   "cell_type": "code",
   "execution_count": null,
   "metadata": {},
   "outputs": [],
   "source": [
    "object_types = get_object_types()\n",
    "object_types"
   ]
  },
  {
   "cell_type": "code",
   "execution_count": null,
   "metadata": {},
   "outputs": [],
   "source": [
    "def get_namespace_array() -> str:\n",
    "        \"\"\"Get the namespace array\n",
    "\n",
    "        Returns:\n",
    "            str: the JSON returned from the server\n",
    "        \"\"\"\n",
    "        content = request_from_api(url, \"GET\", \"query/namespaces\", headers=headers, session=session)\n",
    "\n",
    "        return content"
   ]
  },
  {
   "cell_type": "code",
   "execution_count": null,
   "metadata": {},
   "outputs": [],
   "source": [
    "name_space_array = get_namespace_array()\n",
    "name_space_array"
   ]
  },
  {
   "cell_type": "code",
   "execution_count": null,
   "metadata": {},
   "outputs": [],
   "source": [
    "def get_object_type_id_from_name(type_name: str) -> str:\n",
    "        \"\"\"Get object type id from type name\n",
    "\n",
    "        Args:\n",
    "            type_name (str): type name\n",
    "\n",
    "        Returns:\n",
    "            str: the type id that corresponds with the id (None if not found)\n",
    "        \"\"\"\n",
    "        try:\n",
    "            obj_type = next(\n",
    "                item for item in object_types if item[\"BrowseName\"][\"Name\"] == type_name\n",
    "            )\n",
    "        except StopIteration:\n",
    "            obj_type = {}\n",
    "\n",
    "        if obj_type:\n",
    "            node_id = obj_type.get(\"NodeId\", {})\n",
    "            object_type_id = f'{node_id.get(\"Namespace\")}:{node_id.get(\"IdType\")}:{node_id.get(\"Id\")}'\n",
    "        else:\n",
    "            object_type_id = None\n",
    "\n",
    "        return object_type_id.split(':')"
   ]
  },
  {
   "cell_type": "code",
   "execution_count": null,
   "metadata": {},
   "outputs": [],
   "source": [
    "object_type_id = get_object_type_id_from_name(\"SiteType\")\n",
    "object_type_id"
   ]
  },
  {
   "cell_type": "code",
   "execution_count": null,
   "metadata": {},
   "outputs": [],
   "source": [
    "int(object_type_id[0])"
   ]
  },
  {
   "cell_type": "code",
   "execution_count": null,
   "metadata": {},
   "outputs": [],
   "source": [
    "def get_objects_of_type(type_name: str) -> str:\n",
    "        \"\"\"Function to get all the types of an object\n",
    "\n",
    "        Args:\n",
    "            type_name (str): type name\n",
    "\n",
    "        Returns:\n",
    "            A json-formatted string with the objects (or None if the type is not found)\n",
    "        \"\"\"\n",
    "        object_type_id = get_object_type_id_from_name(type_name)\n",
    "\n",
    "        if object_type_id is None:\n",
    "            return None\n",
    "        \n",
    "        namespace, id_type, id_ = object_type_id\n",
    "\n",
    "        body = json.dumps({\"Id\": int(id_), \"IdType\": int(id_type), \"Namespace\": int(namespace)})\n",
    "        content = request_from_api(url, \"POST\", \"query/objects-of-type-with-variables-and-properties\", body, headers=headers, session=session)\n",
    "\n",
    "        return content"
   ]
  },
  {
   "cell_type": "code",
   "execution_count": null,
   "metadata": {},
   "outputs": [],
   "source": [
    "objects_of_type = get_objects_of_type(\"SiteType\")\n",
    "objects_of_type"
   ]
  },
  {
   "cell_type": "code",
   "execution_count": null,
   "metadata": {},
   "outputs": [],
   "source": [
    "def get_objects_of_type_with_vars_and_pros(\n",
    "        type_name: str,\n",
    "\n",
    "    ) -> str:\n",
    "\n",
    "        # if type_name is None:\n",
    "        #     raise ValidationError(\"type_name cannot be None or empty\")\n",
    "    \n",
    "        type_id = get_object_type_id_from_name(type_name)\n",
    "\n",
    "        body = json.dumps(\n",
    "            {\n",
    "                \"FilterResultsByNamespaces\": {\n",
    "                    \"IdType\": 1,\n",
    "                    \"Values\": name_space_array\n",
    "                },\n",
    "                \"Id\": type_id[2],  \n",
    "                \"Namespace\": int(type_id[0]),\n",
    "                \"IdType\": int(type_id[1]),\n",
    "                \"Page\": 1,\n",
    "                \"PageSize\": 1\n",
    "            }\n",
    "        )\n",
    "        content = request_from_api(url, \"POST\", \"query/objects-of-type-with-variables-and-properties\", body, headers=headers, session=session)\n",
    "        return content"
   ]
  },
  {
   "cell_type": "markdown",
   "metadata": {},
   "source": [
    "{\n",
    "  \"FilterResultsByNamespaces\": {\n",
    "    \"IdType\": 1,\n",
    "    \"Values\": [\n",
    "      \"http://scatecsolar.com/EG-AS\",\n",
    "      \"http://scatecsolar.com/JO-GL\"\n",
    "    ]\n",
    "  },\n",
    "  \"Id\": 1009,\n",
    "  \"Namespace\": 1,\n",
    "  \"IdType\": 0,\n",
    "  \"Page\": 1,\n",
    "  \"PageSize\": 50\n",
    "}"
   ]
  },
  {
   "cell_type": "code",
   "execution_count": null,
   "metadata": {},
   "outputs": [],
   "source": [
    "objects_of_type_vars_pros = get_objects_of_type_with_vars_and_pros(\"SiteType\")\n",
    "objects_of_type_vars_pros"
   ]
  },
  {
   "cell_type": "code",
   "execution_count": null,
   "metadata": {},
   "outputs": [],
   "source": [
    "def expand_variables(data):\n",
    "    expanded_data = []\n",
    "\n",
    "    for reference in data['BrowseResult']['References']:\n",
    "        for variable in reference.get('Variables', []):\n",
    "            # Extract variable details\n",
    "            var_details = {\n",
    "                'Variable_NodeId': variable['NodeId']['Id'],\n",
    "                'Variable_BrowseName': variable['BrowseName']['Name'],\n",
    "                'Variable_DisplayName': variable['DisplayName']['Text'],\n",
    "                'Variable_NodeClass': variable['NodeClass'],\n",
    "                'Variable_TypeDefinition_Id': variable['TypeDefinition']['Id'],\n",
    "                'Variable_Value': variable['Value']\n",
    "            }\n",
    "\n",
    "            # Extract properties of the variable\n",
    "            for prop in variable.get('Properties', []):\n",
    "                prop_details = {\n",
    "                    'Property_NodeId': prop['NodeId']['Id'],\n",
    "                    'Property_BrowseName': prop['BrowseName']['Name'],\n",
    "                    'Property_DisplayName': prop['DisplayName']['Text'],\n",
    "                    'Property_NodeClass': prop['NodeClass'],\n",
    "                    'Property_TypeDefinition_Id': prop['TypeDefinition']['Id'],\n",
    "                    'Property_Value': prop['Value']\n",
    "                }\n",
    "                # Combine variable details with property details\n",
    "                combined = {**var_details, **prop_details}\n",
    "                expanded_data.append(combined)\n",
    "\n",
    "    return expanded_data"
   ]
  },
  {
   "cell_type": "code",
   "execution_count": null,
   "metadata": {},
   "outputs": [],
   "source": [
    "expanded_data = expand_variables(objects_of_type_vars_pros)\n",
    "df = pd.DataFrame(expanded_data)\n",
    "df"
   ]
  },
  {
   "cell_type": "code",
   "execution_count": null,
   "metadata": {},
   "outputs": [],
   "source": [
    "df.columns"
   ]
  },
  {
   "cell_type": "code",
   "execution_count": null,
   "metadata": {},
   "outputs": [],
   "source": [
    "def get_object_descendants(\n",
    "\n",
    "        root_type_name: str,\n",
    "        type_name: str,\n",
    "\n",
    "    ) -> str:\n",
    "        \"\"\"Retrieve object descendants based on root and type names.\n",
    "\n",
    "        Args:\n",
    "\n",
    "            root_type_name (str): The type name of the root object.\n",
    "            type_name (str): The type name of the descendant object.\n",
    "\n",
    "\n",
    "        Returns:\n",
    "\n",
    "            str: A JSON-formatted string with descendants data of the selected object (or None if the type is not found).\n",
    "        \"\"\"\n",
    "\n",
    "        if root_type_name is None or not type_name:\n",
    "            raise ValidationError(\"root_type_name and type_name cannot be None or empty\")\n",
    "    \n",
    "        root_id = get_object_type_id_from_name(root_type_name)\n",
    "        type_id = get_object_type_id_from_name(type_name)\n",
    "\n",
    "        body = json.dumps(\n",
    "            {\n",
    "                \"FilterResultsByNamespaces\": {\n",
    "                    \"IdType\": 1,\n",
    "                    \"Values\": name_space_array\n",
    "                },\n",
    "                \"ReferenceTypeIds\": [\n",
    "                    {\n",
    "                        \"Id\": \"4003\",\n",
    "                        \"IdType\": 0,\n",
    "                        \"Namespace\": 1\n",
    "                    },\n",
    "                    {\n",
    "                        \"Id\": 4004,\n",
    "                        \"IdType\": 0,\n",
    "                        \"Namespace\": 1\n",
    "                    }\n",
    "                ],\n",
    "                \"RootNodeId\": {\n",
    "                    \"Id\": root_id[2],  \n",
    "                    \"IdType\": int(root_id[1]),\n",
    "                    \"Namespace\": int(root_id[0])\n",
    "                },\n",
    "                \"TypeNodeId\": {\n",
    "\n",
    "                    \"Id\": type_id[2],  \n",
    "                    \"IdType\": int(type_id[1]),\n",
    "                    \"Namespace\": int(type_id[0])\n",
    "\n",
    "                }\n",
    "            }\n",
    "\n",
    "        )\n",
    "        content = request_from_api(url, \"POST\", \"query/object-descendants?include_members=true&any_level=true\", body, headers=headers, session=session)\n",
    "\n",
    "\n",
    "        return content"
   ]
  },
  {
   "cell_type": "code",
   "execution_count": null,
   "metadata": {},
   "outputs": [],
   "source": [
    "object_descendants = get_object_descendants(\"StringCombinerType\", \"StringSetType\")\n",
    "object_descendants"
   ]
  },
  {
   "cell_type": "code",
   "execution_count": null,
   "metadata": {},
   "outputs": [],
   "source": [
    "object_descendants = get_object_descendants(\"SiteType\", \"SubSsiteType\")\n",
    "object_descendants"
   ]
  },
  {
   "cell_type": "code",
   "execution_count": null,
   "metadata": {},
   "outputs": [],
   "source": [
    "def flatten_json(data):\n",
    "    flat_list = []\n",
    "\n",
    "    def flatten(item, parent_key=''):\n",
    "        if isinstance(item, dict):\n",
    "            for key, value in item.items():\n",
    "                new_key = f\"{parent_key}{key}_\" if parent_key else key\n",
    "                flatten(value, new_key)\n",
    "        elif isinstance(item, list):\n",
    "            for i, value in enumerate(item):\n",
    "                flatten(value, f\"{parent_key}{i}_\")\n",
    "        else:\n",
    "            flat_list.append((parent_key[:-1], item))\n",
    "\n",
    "    flatten(data)\n",
    "    return dict(flat_list)"
   ]
  },
  {
   "cell_type": "code",
   "execution_count": null,
   "metadata": {},
   "outputs": [],
   "source": [
    "flattened_data = []\n",
    "for reference in object_descendants['BrowseResult']['References']:\n",
    "    flat_ref = flatten_json(reference)\n",
    "    flattened_data.append(flat_ref)"
   ]
  },
  {
   "cell_type": "code",
   "execution_count": null,
   "metadata": {},
   "outputs": [],
   "source": [
    "df = pd.DataFrame(flattened_data)\n",
    "df"
   ]
  },
  {
   "cell_type": "code",
   "execution_count": null,
   "metadata": {},
   "outputs": [],
   "source": [
    "def flatten_members(data):\n",
    "    flat_list = []\n",
    "\n",
    "    def flatten(item, parent_key=''):\n",
    "        if isinstance(item, dict):\n",
    "            for key, value in item.items():\n",
    "                new_key = f\"{parent_key}{key}_\" if parent_key else key\n",
    "                flatten(value, new_key)\n",
    "        elif isinstance(item, list):\n",
    "            for i, value in enumerate(item):\n",
    "                flatten(value, f\"{parent_key}{i}_\")\n",
    "        else:\n",
    "            flat_list.append((parent_key[:-1], item))\n",
    "\n",
    "    flatten(data)\n",
    "    return dict(flat_list)"
   ]
  },
  {
   "cell_type": "code",
   "execution_count": null,
   "metadata": {},
   "outputs": [],
   "source": [
    "all_flattened_data = []\n",
    "for reference in object_descendants['BrowseResult']['References']:\n",
    "    flat_ref = flatten_json(reference)\n",
    "    if 'Members' in reference:\n",
    "        for member in reference['Members']:\n",
    "            flat_member = flatten_members(member)\n",
    "            combined = {**flat_ref, **flat_member}\n",
    "            all_flattened_data.append(combined)\n",
    "    else:\n",
    "        all_flattened_data.append(flat_ref)"
   ]
  },
  {
   "cell_type": "code",
   "execution_count": null,
   "metadata": {},
   "outputs": [],
   "source": [
    "df_full = pd.DataFrame(all_flattened_data)\n",
    "df_full"
   ]
  },
  {
   "cell_type": "code",
   "execution_count": null,
   "metadata": {},
   "outputs": [],
   "source": []
  }
 ],
 "metadata": {
  "kernelspec": {
   "display_name": ".venv_map_client",
   "language": "python",
   "name": "python3"
  },
  "language_info": {
   "codemirror_mode": {
    "name": "ipython",
    "version": 3
   },
   "file_extension": ".py",
   "mimetype": "text/x-python",
   "name": "python",
   "nbconvert_exporter": "python",
   "pygments_lexer": "ipython3",
   "version": "3.12.4"
  }
 },
 "nbformat": 4,
 "nbformat_minor": 2
}
