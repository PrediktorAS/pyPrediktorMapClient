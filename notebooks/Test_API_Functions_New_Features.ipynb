{
 "cells": [
  {
   "cell_type": "markdown",
   "metadata": {},
   "source": [
    "### Import Libraries"
   ]
  },
  {
   "cell_type": "code",
   "execution_count": null,
   "metadata": {},
   "outputs": [],
   "source": [
    "# Import the required packages and libraries\n",
    "import datetime\n",
    "import os\n",
    "from dotenv import load_dotenv \n",
    "from pathlib import Path"
   ]
  },
  {
   "cell_type": "markdown",
   "metadata": {},
   "source": [
    "### Import Scripts"
   ]
  },
  {
   "cell_type": "code",
   "execution_count": null,
   "metadata": {},
   "outputs": [],
   "source": [
    "from pyprediktormapclient.opc_ua import OPC_UA\n",
    "from pyprediktormapclient.model_index import ModelIndex\n",
    "from pyprediktormapclient.auth_client import AUTH_CLIENT\n",
    "from pyprediktormapclient.analytics_helper import AnalyticsHelper\n",
    "from pyprediktormapclient.shared import *"
   ]
  },
  {
   "cell_type": "markdown",
   "metadata": {},
   "source": [
    "### Import Envrionment Variables"
   ]
  },
  {
   "cell_type": "code",
   "execution_count": null,
   "metadata": {},
   "outputs": [],
   "source": [
    "# Consider obtaining the envrionment variables from .env file if you are running this locally from source.\n",
    "dotenv_path = Path(\"../.env\")\n",
    "load_dotenv(dotenv_path=dotenv_path)"
   ]
  },
  {
   "cell_type": "code",
   "execution_count": null,
   "metadata": {},
   "outputs": [],
   "source": [
    "username = os.environ[\"USERNAME\"]\n",
    "password = os.environ[\"PASSWORD\"]\n",
    "opcua_rest_url = os.environ[\"OPC_UA_REST_URL\"]\n",
    "opcua_server_url = os.environ[\"OPC_UA_SERVER_URL\"]\n",
    "model_index_url = os.environ[\"MODEL_INDEX_URL\"]\n",
    "ory_url = os.environ[\"ORY_URL\"]"
   ]
  },
  {
   "cell_type": "code",
   "execution_count": null,
   "metadata": {},
   "outputs": [],
   "source": [
    "# Getting ory bearer token\n",
    "auth_client = AUTH_CLIENT(rest_url=ory_url, username=username, password=password)\n",
    "auth_client.request_new_ory_token()"
   ]
  },
  {
   "cell_type": "markdown",
   "metadata": {},
   "source": [
    "### Download data from modelindex api"
   ]
  },
  {
   "cell_type": "code",
   "execution_count": null,
   "metadata": {},
   "outputs": [],
   "source": [
    "# Connecting to ModelIndex APIs \n",
    "model_data = ModelIndex(url=model_index_url)"
   ]
  },
  {
   "cell_type": "code",
   "execution_count": null,
   "metadata": {},
   "outputs": [],
   "source": [
    "# Listed sites on the model index api server\n",
    "namespaces = model_data.get_namespace_array()\n",
    "namespaces"
   ]
  },
  {
   "cell_type": "code",
   "execution_count": null,
   "metadata": {},
   "outputs": [],
   "source": [
    "# Types of Objects\n",
    "object_types_json = model_data.get_object_types()\n",
    "object_types = AnalyticsHelper(object_types_json)\n",
    "object_types.dataframe"
   ]
  },
  {
   "cell_type": "code",
   "execution_count": null,
   "metadata": {},
   "outputs": [],
   "source": [
    "# Unique types of Objects\n",
    "object_types_unique = object_types.dataframe[[\"Id\", \"Name\"]].drop_duplicates()\n",
    "object_types_unique"
   ]
  },
  {
   "cell_type": "code",
   "execution_count": null,
   "metadata": {},
   "outputs": [],
   "source": [
    "# To get typeId by type name of an object\n",
    "object_type_id = model_data.get_object_type_id_from_name(\"SiteType\")\n",
    "object_type_id"
   ]
  },
  {
   "cell_type": "code",
   "execution_count": null,
   "metadata": {},
   "outputs": [],
   "source": [
    "str(object_type_id.split(\":\")[1])"
   ]
  },
  {
   "cell_type": "code",
   "execution_count": null,
   "metadata": {},
   "outputs": [],
   "source": [
    "# To get the objects of a type\n",
    "sites_json = model_data.get_objects_of_type(\"SiteType\")\n",
    "\n",
    "# Send the returned JSON into a normalizer to get Id, Type, Name, Props and Vars as columns\n",
    "sites = AnalyticsHelper(sites_json)\n",
    "sites.list_of_names()"
   ]
  },
  {
   "cell_type": "code",
   "execution_count": null,
   "metadata": {},
   "outputs": [],
   "source": [
    "# Analytics helper\n",
    "sites.variables_as_dataframe()"
   ]
  },
  {
   "cell_type": "code",
   "execution_count": null,
   "metadata": {},
   "outputs": [],
   "source": [
    "sites.list_of_ids()"
   ]
  },
  {
   "cell_type": "code",
   "execution_count": null,
   "metadata": {},
   "outputs": [],
   "source": [
    "# Selecting the single site\n",
    "site_id = sites.list_of_ids()[0]\n",
    "site_id"
   ]
  },
  {
   "cell_type": "code",
   "execution_count": null,
   "metadata": {},
   "outputs": [],
   "source": [
    "# Get all stringsets for one park\n",
    "string_sets_for_first_park_as_json = model_data.get_object_descendants(\n",
    "    \"StringSetType\", [site_id], \"PV_Assets\"\n",
    ")\n",
    "string_sets_for_first_park = AnalyticsHelper(string_sets_for_first_park_as_json)\n",
    "string_sets_for_first_park.dataframe"
   ]
  },
  {
   "cell_type": "code",
   "execution_count": null,
   "metadata": {},
   "outputs": [],
   "source": [
    "# Ancestors of an object type, get all trackers that are ancestor of the parks string sets\n",
    "\n",
    "trackers_as_json = model_data.get_object_ancestors(\n",
    "    \"TrackerType\", string_sets_for_first_park.list_of_ids(), \"PV_Serves\"\n",
    ")\n",
    "trackers = AnalyticsHelper(trackers_as_json)\n",
    "trackers.variables_as_dataframe()"
   ]
  },
  {
   "cell_type": "markdown",
   "metadata": {},
   "source": [
    "### Download data from the opc ua api"
   ]
  },
  {
   "cell_type": "code",
   "execution_count": null,
   "metadata": {},
   "outputs": [],
   "source": [
    "namespace_list = object_types.namespaces_as_list(namespaces)\n",
    "\n",
    "# Initating the OPC UA API with a fixed namespace list\n",
    "opc_data = OPC_UA(rest_url=opcua_rest_url, opcua_url=opcua_server_url, namespaces=namespace_list)"
   ]
  },
  {
   "cell_type": "markdown",
   "metadata": {},
   "source": [
    "### Read Historical Events"
   ]
  },
  {
   "cell_type": "code",
   "execution_count": null,
   "metadata": {},
   "outputs": [],
   "source": [
    "from typing import List\n",
    "import pandas as pd\n",
    "import copy\n",
    "import json\n",
    "from requests import HTTPError\n",
    "import math\n",
    "import requests"
   ]
  },
  {
   "cell_type": "code",
   "execution_count": null,
   "metadata": {},
   "outputs": [],
   "source": [
    "def get_historical_raw_values(opc_data,\n",
    "    start_time,\n",
    "    end_time,\n",
    "    variable_list,\n",
    "    limit_start_index=None,\n",
    "    limit_num_records=None,\n",
    ") -> pd.DataFrame:\n",
    "    \n",
    "    # Create a new variable list to remove pydantic models\n",
    "    vars = opc_data._get_variable_list_as_list(variable_list)\n",
    "\n",
    "    extended_variables = []\n",
    "    for var in vars:\n",
    "        extended_variables.append(\n",
    "            {\n",
    "                \"NodeId\": var,\n",
    "            }\n",
    "        )\n",
    "    body = copy.deepcopy(opc_data.body)\n",
    "    body[\"StartTime\"] = start_time.strftime(\"%Y-%m-%dT%H:%M:%SZ\")\n",
    "    body[\"EndTime\"] = end_time.strftime(\"%Y-%m-%dT%H:%M:%SZ\")\n",
    "    body[\"ReadValueIds\"] = extended_variables\n",
    "    if limit_start_index is not None and limit_num_records is not None:\n",
    "        body[\"Limit\"] = {\n",
    "            \"StartIndex\": limit_start_index,\n",
    "            \"NumRecords\": limit_num_records\n",
    "        }\n",
    "    \n",
    "    print(body)\n",
    "\n",
    "    # Try making the request, if fails check if it is due to ory client\n",
    "    content = request_from_api(\n",
    "        rest_url=opcua_rest_url,\n",
    "        method=\"POST\",\n",
    "        endpoint=\"values/historical\",\n",
    "        data=json.dumps(body, default=opc_data.json_serial),\n",
    "        headers=opc_data.headers,\n",
    "        extended_timeout=True,\n",
    "    )\n",
    "\n",
    "    df_result = pd.json_normalize(content, record_path=['HistoryReadResults', 'DataValues'], meta=[['HistoryReadResults', 'NodeId', 'IdType'], ['HistoryReadResults', 'NodeId','Id'],['HistoryReadResults', 'NodeId','Namespace']] )\n",
    "    df_result.rename(\n",
    "            columns={\n",
    "                \"Value.Type\": \"ValueType\",\n",
    "                \"Value.Body\": \"Value\",\n",
    "                \"SourceTimestamp\": \"Timestamp\",\n",
    "                \"HistoryReadResults.NodeId.IdType\": \"IdType\",\n",
    "                \"HistoryReadResults.NodeId.Id\": \"Id\",\n",
    "                \"HistoryReadResults.NodeId.Namespace\": \"Namespace\",\n",
    "            },\n",
    "            errors=\"raise\",\n",
    "            inplace=True,\n",
    "        )\n",
    "\n",
    "    return df_result"
   ]
  },
  {
   "cell_type": "code",
   "execution_count": null,
   "metadata": {},
   "outputs": [],
   "source": [
    "start_time=(datetime.datetime.now() - datetime.timedelta(30))\n",
    "end_time=(datetime.datetime.now() - datetime.timedelta(29))\n",
    "variable_list=trackers.variables_as_list([\"AngleSetpoint\"])"
   ]
  },
  {
   "cell_type": "code",
   "execution_count": null,
   "metadata": {},
   "outputs": [],
   "source": [
    "get_historical_raw_values(opc_data,\n",
    "    start_time,\n",
    "    end_time,\n",
    "    variable_list,\n",
    "    limit_start_index=None,\n",
    "    limit_num_records=None,\n",
    ")"
   ]
  },
  {
   "cell_type": "code",
   "execution_count": null,
   "metadata": {},
   "outputs": [],
   "source": [
    "base_event_type = \"0:0:2782\""
   ]
  },
  {
   "cell_type": "code",
   "execution_count": null,
   "metadata": {},
   "outputs": [],
   "source": [
    "def get_event_types(opc_data, base_event_type: str) -> pd.DataFrame:\n",
    "\n",
    "    namespace, id_type, id = map(int, base_event_type.split(':'))\n",
    "\n",
    "    body = copy.deepcopy(opc_data.body)\n",
    "    body[\"BaseEventType\"] = {\n",
    "        \"Id\": str(id),\n",
    "        \"Namespace\": namespace,\n",
    "        \"IdType\": id_type\n",
    "    }\n",
    "    print(body)\n",
    "\n",
    "    try:\n",
    "        # Try making the request, if fails check if it is due to ory client\n",
    "        content = request_from_api(\n",
    "            rest_url=opcua_rest_url,\n",
    "            method=\"POST\",\n",
    "            endpoint=\"events/types\",\n",
    "            data=json.dumps(body, default=opc_data.json_serial),\n",
    "            headers=opc_data.headers,\n",
    "            extended_timeout=True,\n",
    "        )\n",
    "\n",
    "    except HTTPError as e:\n",
    "        if opc_data.auth_client is not None:\n",
    "            opc_data.check_auth_client(json.loads(e.response.content))\n",
    "        else:\n",
    "            raise RuntimeError(f'Error message {e}')\n",
    "    \n",
    "    df_result = pd.DataFrame(content['EventTypes'])\n",
    "\n",
    "    df_result['BrowseName'] = df_result['BrowseName'].apply(lambda x: x.get('Name', None))\n",
    "    df_result['Id'] = df_result['NodeId'].apply(lambda x: x.get('Id', None))\n",
    "    df_result['Namespace'] = df_result['NodeId'].apply(lambda x: x.get('Namespace'))\n",
    "\n",
    "    df_result['Namespace'] = df_result['Namespace'].fillna(0).astype(int)\n",
    "    df_result.drop(columns=['NodeId', 'DisplayName'], inplace=True)\n",
    "    \n",
    "\n",
    "    return df_result"
   ]
  },
  {
   "cell_type": "code",
   "execution_count": null,
   "metadata": {},
   "outputs": [],
   "source": [
    "# df_result_flat = pd.json_normalize(df_result['BrowseName'])\n",
    "    # df_result_flat.columns = ['BrowseName.' + str(col) for col in df_result_flat.columns]\n",
    "\n",
    "    # df_result_node = pd.json_normalize(df_result['NodeId'])\n",
    "    # df_result_node.columns = ['NodeId.' + str(col) for col in df_result_node.columns]\n",
    "\n",
    "    # df_result = pd.concat([df_result, df_result_flat, df_result_node], axis=1)\n",
    "    \n",
    "    # df_result.rename(\n",
    "    #         columns={\n",
    "    #             \"BrowseName.Name\": \"BrowseName\",\n",
    "    #             \"DisplayName\": \"TypeName\",\n",
    "    #             \"NodeId.Id\": \"TypeId\",\n",
    "    #             \"NodeId.Namespace\": \"Namespace\",\n",
    "    #         },\n",
    "    #         errors=\"raise\",\n",
    "    #         inplace=True,\n",
    "    #     )\n",
    "\n",
    "#df_result['TypeName'] = df_result['BrowseName'].apply(lambda x: x.get('Name') if isinstance(x, dict) else np.nan)\n",
    "#df_result['TypeId'] = df_result['NodeId'].apply(lambda x: x.get('Id') if isinstance(x, dict) else np.nan)\n",
    "#df_result = df_result.drop(columns=['BrowseName', 'NodeId'])\n",
    "#df_result = pd.json_normalize(content, record_path=['EventTypes'], meta=[['BrowseName', 'Name'], ['NodeId', 'Id']])\n",
    "# df_result.columns = df_result.columns.map(lambda x: x.split(\".\")[-1])"
   ]
  },
  {
   "cell_type": "code",
   "execution_count": null,
   "metadata": {},
   "outputs": [],
   "source": [
    "def get_event_type_id_from_name(df_result, type_name: str) -> str:\n",
    "        \"\"\"Get event type id and namespace from type name\n",
    "\n",
    "        Args:\n",
    "            type_name (str): type name\n",
    "\n",
    "        Returns:\n",
    "            str: an object of event type id and namespace in the form of a tuple\n",
    "        \"\"\"\n",
    "        event_type = df_result[df_result[\"BrowseName\"] == type_name]\n",
    "        if not event_type.empty:\n",
    "            event_type_id, namespace = event_type[[\"Id\", \"Namespace\"]].values[0]\n",
    "        else:\n",
    "            event_type_id = None\n",
    "        \n",
    "        event_type_id = f\"{namespace}:0:{event_type_id}\"\n",
    "\n",
    "        return event_type_id"
   ]
  },
  {
   "cell_type": "code",
   "execution_count": null,
   "metadata": {},
   "outputs": [],
   "source": [
    "type_id = get_event_type_id_from_name(df_result, \"SiteEventType\")"
   ]
  },
  {
   "cell_type": "code",
   "execution_count": null,
   "metadata": {},
   "outputs": [],
   "source": [
    "int(type_id.split(\":\")[1])"
   ]
  },
  {
   "cell_type": "code",
   "execution_count": null,
   "metadata": {},
   "outputs": [],
   "source": [
    "type_id[1]"
   ]
  },
  {
   "cell_type": "code",
   "execution_count": null,
   "metadata": {},
   "outputs": [],
   "source": [
    "df_result = get_event_types(opc_data, base_event_type)"
   ]
  },
  {
   "cell_type": "code",
   "execution_count": null,
   "metadata": {},
   "outputs": [],
   "source": [
    "df_result"
   ]
  },
  {
   "cell_type": "code",
   "execution_count": null,
   "metadata": {},
   "outputs": [],
   "source": [
    "#print(df_result[\"EventTypes\"])#[0]"
   ]
  },
  {
   "cell_type": "code",
   "execution_count": null,
   "metadata": {},
   "outputs": [],
   "source": [
    "#test_etypes= df_result[\"EventTypes\"][0]"
   ]
  },
  {
   "cell_type": "code",
   "execution_count": null,
   "metadata": {},
   "outputs": [],
   "source": [
    "#test_etypes"
   ]
  },
  {
   "cell_type": "code",
   "execution_count": null,
   "metadata": {},
   "outputs": [],
   "source": [
    "#pd.json_normalize(df_result['EventTypes'].explode().reset_index(drop=True))"
   ]
  },
  {
   "cell_type": "code",
   "execution_count": null,
   "metadata": {},
   "outputs": [],
   "source": [
    "#df = pd.DataFrame(test_etypes)\n",
    "#df_expanded = pd.json_normalize(df.explode().reset_index(drop=True))"
   ]
  },
  {
   "cell_type": "code",
   "execution_count": null,
   "metadata": {},
   "outputs": [],
   "source": [
    "#df_expanded = pd.json_normalize(test_etypes)"
   ]
  },
  {
   "cell_type": "code",
   "execution_count": null,
   "metadata": {},
   "outputs": [],
   "source": [
    "#df_expanded"
   ]
  },
  {
   "cell_type": "code",
   "execution_count": null,
   "metadata": {},
   "outputs": [],
   "source": [
    "def read_historical_events(opc_data,\n",
    "    start_time,\n",
    "    end_time,\n",
    "    fields_list,\n",
    "    event_type_noded_id,\n",
    "    object_type_id,\n",
    ") -> pd.DataFrame:\n",
    "    \n",
    "    body = copy.deepcopy(opc_data.body)\n",
    "    body[\"StartTime\"] = start_time.strftime(\"%Y-%m-%dT%H:%M:%SZ\")\n",
    "    body[\"EndTime\"] = end_time.strftime(\"%Y-%m-%dT%H:%M:%SZ\")\n",
    "    body[\"Fields\"] = fields_list\n",
    "    body[\"WhereClause\"] = {\n",
    "            \"EventTypeNodedId\": {\n",
    "                \"Id\": int(event_type_noded_id.split(\":\")[2]),\n",
    "                \"Namespace\": int(event_type_noded_id.split(\":\")[0]),\n",
    "                \"IdType\": int(event_type_noded_id.split(\":\")[1])\n",
    "            }\n",
    "        }\n",
    "    body[\"ReadValueIds\"] = [\n",
    "            {\n",
    "                \"NodeId\": {\n",
    "                    \"Id\": int(object_type_id.split(\":\")[2]),\n",
    "                    \"Namespace\": int(object_type_id.split(\":\")[0]),\n",
    "                    \"IdType\": int(object_type_id.split(\":\")[1])\n",
    "                }\n",
    "            }\n",
    "        ]\n",
    "    \n",
    "    print(body)\n",
    "\n",
    "    # Try making the request, if fails check if it is due to ory client\n",
    "    content = request_from_api(\n",
    "        rest_url=opcua_rest_url,\n",
    "        method=\"POST\",\n",
    "        endpoint=\"events/read\",\n",
    "        data=json.dumps(body, default=opc_data.json_serial),\n",
    "        headers=opc_data.headers,\n",
    "        extended_timeout=True,\n",
    "    )\n",
    "\n",
    "    df_result = pd.json_normalize(content)\n",
    "\n",
    "    return df_result"
   ]
  },
  {
   "cell_type": "code",
   "execution_count": null,
   "metadata": {},
   "outputs": [],
   "source": [
    "start_time=(datetime.datetime.now() - datetime.timedelta(30))\n",
    "end_time=(datetime.datetime.now() - datetime.timedelta(29))\n",
    "#variable_list=trackers.variables_as_list([\"AngleMeasured\", \"AngleSetpoint\"])"
   ]
  },
  {
   "cell_type": "code",
   "execution_count": null,
   "metadata": {},
   "outputs": [],
   "source": [
    "event_type_noded_id = get_event_type_id_from_name(df_result, \"EnergyAndPowerMeterEventType\")"
   ]
  },
  {
   "cell_type": "code",
   "execution_count": null,
   "metadata": {},
   "outputs": [],
   "source": [
    "object_type_id = model_data.get_object_type_id_from_name(\"EnergyAndPowerMeterEventType\")"
   ]
  },
  {
   "cell_type": "code",
   "execution_count": null,
   "metadata": {},
   "outputs": [],
   "source": [
    "object_type_id"
   ]
  },
  {
   "cell_type": "code",
   "execution_count": null,
   "metadata": {},
   "outputs": [],
   "source": [
    "fields_list = [\"Time\", \"EventId\", \"EventType\", \"SourceName\", \"Message\", \"Severity\", \"Quality\"]"
   ]
  },
  {
   "cell_type": "code",
   "execution_count": null,
   "metadata": {},
   "outputs": [],
   "source": [
    "df_hist_event = read_historical_events(opc_data,\n",
    "    start_time,\n",
    "    end_time,\n",
    "    fields_list,\n",
    "    event_type_noded_id,\n",
    "    object_type_id,\n",
    ")"
   ]
  },
  {
   "cell_type": "markdown",
   "metadata": {},
   "source": []
  },
  {
   "cell_type": "code",
   "execution_count": null,
   "metadata": {},
   "outputs": [],
   "source": [
    "df_hist_event"
   ]
  },
  {
   "cell_type": "code",
   "execution_count": null,
   "metadata": {},
   "outputs": [],
   "source": [
    "df_hist_event[\"EventsResult\"][0]"
   ]
  },
  {
   "cell_type": "markdown",
   "metadata": {},
   "source": [
    "### End"
   ]
  },
  {
   "cell_type": "code",
   "execution_count": null,
   "metadata": {},
   "outputs": [],
   "source": [
    "# Live value data of trackers\n",
    "live_value = opc_data.get_values(\n",
    "    trackers.variables_as_list([\"AngleMeasured\", \"AngleSetpoint\"])\n",
    ")\n",
    "live_value"
   ]
  },
  {
   "cell_type": "code",
   "execution_count": null,
   "metadata": {},
   "outputs": [],
   "source": [
    "# Raw historic value data of trackers\n",
    "one_day_raw_historic_tracker_data = opc_data.get_historical_raw_values(\n",
    "    start_time=(datetime.datetime.now() - datetime.timedelta(30)),\n",
    "    end_time=(datetime.datetime.now() - datetime.timedelta(29)),\n",
    "    variable_list=trackers.variables_as_list([\"AngleSetpoint\"]),\n",
    ")\n",
    "one_day_raw_historic_tracker_data"
   ]
  },
  {
   "cell_type": "code",
   "execution_count": null,
   "metadata": {},
   "outputs": [],
   "source": [
    "# Aggregated historic value data of trackers, 1 days worth of data 30 days ago\n",
    "one_day_historic_tracker_data = opc_data.get_historical_aggregated_values(\n",
    "    start_time=(datetime.datetime.now() - datetime.timedelta(30)),\n",
    "    end_time=(datetime.datetime.now() - datetime.timedelta(29)),\n",
    "    pro_interval=3600000,\n",
    "    agg_name=\"Average\",\n",
    "    variable_list=trackers.variables_as_list([\"AngleMeasured\"]),\n",
    ")\n",
    "one_day_historic_tracker_data"
   ]
  }
 ],
 "metadata": {
  "kernelspec": {
   "display_name": ".venv_auth",
   "language": "python",
   "name": "python3"
  },
  "language_info": {
   "codemirror_mode": {
    "name": "ipython",
    "version": 3
   },
   "file_extension": ".py",
   "mimetype": "text/x-python",
   "name": "python",
   "nbconvert_exporter": "python",
   "pygments_lexer": "ipython3",
   "version": "3.12.2"
  }
 },
 "nbformat": 4,
 "nbformat_minor": 2
}
