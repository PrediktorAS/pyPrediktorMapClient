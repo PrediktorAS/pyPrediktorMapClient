{
 "cells": [
  {
   "cell_type": "markdown",
   "metadata": {},
   "source": [
    "This notebook explores both model index and opc ua scripts and contain examples of all the functions to make request to model index api and opc ua api servers.  "
   ]
  },
  {
   "cell_type": "markdown",
   "metadata": {},
   "source": [
    "### Import Libraries"
   ]
  },
  {
   "cell_type": "code",
   "execution_count": null,
   "metadata": {},
   "outputs": [],
   "source": [
    "# Import the required packeages\n",
    "import pandas as pd\n",
    "from typing import List, Dict\n",
    "import sys\n",
    "import os\n",
    "import asyncio"
   ]
  },
  {
   "cell_type": "markdown",
   "metadata": {},
   "source": [
    "### Import Scripts"
   ]
  },
  {
   "cell_type": "code",
   "execution_count": null,
   "metadata": {},
   "outputs": [],
   "source": [
    "# Setting the path\n",
    "module_path = os.path.abspath(os.path.join(\"../src/pyprediktormapclient/\"))\n",
    "print(module_path)\n",
    "if module_path not in sys.path:\n",
    "    sys.path.append(module_path)"
   ]
  },
  {
   "cell_type": "code",
   "execution_count": null,
   "metadata": {},
   "outputs": [],
   "source": [
    "# Import model index functions\n",
    "from model_index import ModelIndex\n",
    "\n",
    "# Import OPC UA functions\n",
    "from opc_ua import OPC_UA"
   ]
  },
  {
   "cell_type": "code",
   "execution_count": null,
   "metadata": {},
   "outputs": [],
   "source": [
    "# Connection to the servers\n",
    "model_index_url = \"http://10.241.68.86:7001/v1/\"\n",
    "opcua_rest_url = \"http://10.241.68.86:13371/\"\n",
    "opcua_server_url = \"opc.tcp://10.241.80.4:4872\"\n",
    "\n",
    "# Model index API\n",
    "model = ModelIndex(url=model_index_url)\n",
    "\n",
    "# OPC UA API\n",
    "tsdata = OPC_UA(rest_url=opcua_rest_url, opcua_url= opcua_server_url)"
   ]
  },
  {
   "cell_type": "code",
   "execution_count": null,
   "metadata": {},
   "outputs": [],
   "source": [
    "# Input parameters for value data\n",
    "# Parameters for aggregate historical data\n",
    "start_time = \"2022-07-05T07:55:14.544000Z\" # 5th July aggregated data \n",
    "end_time = \"2022-07-06T07:55:14.544000Z\"\n",
    "pro_interval = 600000 # 10 minutes processing time\n",
    "agg_name = \"Average\""
   ]
  },
  {
   "cell_type": "markdown",
   "metadata": {},
   "source": [
    "### Download data from modelindex api"
   ]
  },
  {
   "cell_type": "code",
   "execution_count": null,
   "metadata": {},
   "outputs": [],
   "source": [
    "# Listed sites on the model index api server\n",
    "namespaces = model.get_namespace_array(return_format=\"dataframe\")\n",
    "namespaces"
   ]
  },
  {
   "cell_type": "code",
   "execution_count": null,
   "metadata": {},
   "outputs": [],
   "source": [
    "# Types of Objects\n",
    "obj_types = model.get_object_types(return_format=\"dataframe\")\n",
    "obj_types"
   ]
  },
  {
   "cell_type": "code",
   "execution_count": null,
   "metadata": {},
   "outputs": [],
   "source": [
    "# Unique types of Objects\n",
    "obj_types = model.get_object_types(return_format=\"dataframe\")\n",
    "obj_types_unique = obj_types[['Id', 'DisplayName', 'BrowseName']].drop_duplicates()\n",
    "obj_types_unique"
   ]
  },
  {
   "cell_type": "code",
   "execution_count": null,
   "metadata": {},
   "outputs": [],
   "source": [
    "# To get typeId by type name of an object\n",
    "object_type_id = model.get_object_type_id_from_name(\"SiteType\")\n",
    "object_type_id"
   ]
  },
  {
   "cell_type": "code",
   "execution_count": null,
   "metadata": {},
   "outputs": [],
   "source": [
    "# To get the objects of a type\n",
    "obj_of_types = model.get_objects_of_type(\"SiteType\", return_format=\"dataframe\")\n",
    "obj_of_types"
   ]
  },
  {
   "cell_type": "code",
   "execution_count": null,
   "metadata": {},
   "outputs": [],
   "source": [
    "# Descendents of an object type\n",
    "obj_descendents = model.get_object_descendants(\"StringSetType\", obj_of_types, \"PV_Assets\", return_format=\"dataframe\")\n",
    "obj_descendents"
   ]
  },
  {
   "cell_type": "code",
   "execution_count": null,
   "metadata": {},
   "outputs": [],
   "source": [
    "# All the sites on the OPC server\n",
    "sites = model.get_objects_of_type('SiteType', return_format=\"dataframe\")\n",
    "\n",
    "# Selecting specific site \n",
    "sitename = 'BR-AP'\n",
    "site = sites[sites['DisplayName'] == sitename]"
   ]
  },
  {
   "cell_type": "code",
   "execution_count": null,
   "metadata": {},
   "outputs": [],
   "source": [
    "# Object descendants data of a specific site BR-AP\n",
    "strings = model.get_object_descendants(\"StringSetType\", site, \"PV_Assets\", return_format=\"dataframe\")\n",
    "strings"
   ]
  },
  {
   "cell_type": "code",
   "execution_count": null,
   "metadata": {},
   "outputs": [],
   "source": [
    "# Ancestors of an object type\n",
    "obj_ancestors = model.get_object_ancestors(\"TrackerType\", strings, \"PV_Serves\", return_format=\"dataframe\")\n",
    "obj_ancestors "
   ]
  },
  {
   "cell_type": "markdown",
   "metadata": {},
   "source": [
    "### Download data from the opc ua api"
   ]
  },
  {
   "cell_type": "code",
   "execution_count": null,
   "metadata": {},
   "outputs": [],
   "source": [
    "# Input parameters for value data\n",
    "# For aggregate historical data\n",
    "start_time = \"2022-07-05T07:55:14.544000Z\" # 5th July aggregated data \n",
    "end_time = \"2022-07-06T07:55:14.544000Z\"\n",
    "pro_interval = 3600000 # 1 hour processing time\n",
    "agg_name = \"Average\""
   ]
  },
  {
   "cell_type": "code",
   "execution_count": null,
   "metadata": {},
   "outputs": [],
   "source": [
    "# Live value data of trackers \n",
    "live_value = tsdata.get_live_values_data(['AngleMeasured', 'AngleSetpoint'], obj_ancestors)\n",
    "live_value"
   ]
  },
  {
   "cell_type": "code",
   "execution_count": null,
   "metadata": {},
   "outputs": [],
   "source": [
    "# 1 day aggregated historical trackers data\n",
    "await tsdata.get_agg_hist_value_data(start_time, end_time, pro_interval, agg_name, obj_ancestors, ['AngleMeasured', 'AngleSetpoint'])"
   ]
  },
  {
   "cell_type": "code",
   "execution_count": null,
   "metadata": {},
   "outputs": [],
   "source": [
    "# Reading downloaded tracker data \n",
    "tracker_df = pd.read_parquet('Data/data_chunk_0.parquet')\n",
    "tracker_df"
   ]
  }
 ],
 "metadata": {
  "kernelspec": {
   "display_name": "Python 3.10.6 ('.venv': poetry)",
   "language": "python",
   "name": "python3"
  },
  "language_info": {
   "codemirror_mode": {
    "name": "ipython",
    "version": 3
   },
   "file_extension": ".py",
   "mimetype": "text/x-python",
   "name": "python",
   "nbconvert_exporter": "python",
   "pygments_lexer": "ipython3",
   "version": "3.10.6"
  },
  "orig_nbformat": 4,
  "vscode": {
   "interpreter": {
    "hash": "86b5af181f347ecd01eceb9b80776cb7c4e152a2fa5eb849b10480c426c811ed"
   }
  }
 },
 "nbformat": 4,
 "nbformat_minor": 2
}
