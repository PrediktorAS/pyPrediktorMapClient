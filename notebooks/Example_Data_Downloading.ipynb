{
 "cells": [
  {
   "cell_type": "markdown",
   "metadata": {},
   "source": [
    "This notebook contains examples of using model index and OPC UA functions to download inverters, strings set and trackers data of the site 'EG-AS' from the model index and OPC UA api servers. The aggregated historical data downloaded in the data folder and cell execution time can be noted for each request."
   ]
  },
  {
   "cell_type": "markdown",
   "metadata": {},
   "source": [
    "### Import Libraries"
   ]
  },
  {
   "cell_type": "code",
   "execution_count": null,
   "metadata": {},
   "outputs": [],
   "source": [
    "# Import the required packeages\n",
    "import pandas as pd\n",
    "from typing import List, Dict\n",
    "import sys\n",
    "import os\n",
    "import json\n",
    "import asyncio"
   ]
  },
  {
   "cell_type": "markdown",
   "metadata": {},
   "source": [
    "### Import Scripts"
   ]
  },
  {
   "cell_type": "code",
   "execution_count": null,
   "metadata": {},
   "outputs": [],
   "source": [
    "# Setting the path\n",
    "module_path = os.path.abspath(os.path.join(\"../src/pyprediktormapclient/\"))\n",
    "print(module_path)\n",
    "if module_path not in sys.path:\n",
    "    sys.path.append(module_path)"
   ]
  },
  {
   "cell_type": "code",
   "execution_count": null,
   "metadata": {},
   "outputs": [],
   "source": [
    "# Import model index functions\n",
    "from model_index import ModelIndex\n",
    "\n",
    "# Import OPC UA functions\n",
    "from opc_ua import OPC_UA"
   ]
  },
  {
   "cell_type": "code",
   "execution_count": null,
   "metadata": {},
   "outputs": [],
   "source": [
    "# Connection to the servers\n",
    "model_index_url = \"http://10.241.68.86:7001/v1/\"\n",
    "opcua_rest_url = \"http://10.241.68.86:13371/\"\n",
    "opcua_server_url = \"opc.tcp://10.241.80.4:4872\"\n",
    "\n",
    "# Model index API\n",
    "model = ModelIndex(url=model_index_url)\n",
    "\n",
    "# OPC UA API\n",
    "tsdata = OPC_UA(rest_url=opcua_rest_url, opcua_url=opcua_server_url)"
   ]
  },
  {
   "cell_type": "markdown",
   "metadata": {},
   "source": [
    "### OPC UA server parameters"
   ]
  },
  {
   "cell_type": "code",
   "execution_count": null,
   "metadata": {},
   "outputs": [],
   "source": [
    "# Input parameters for value data\n",
    "\n",
    "# Parameters for aggregate historical data\n",
    "start_time = \"2022-07-05T07:55:14.544000Z\"  \n",
    "end_time = \"2022-07-06T07:55:14.544000Z\" # 5th July aggregated data\n",
    "end_time1 = \"2022-07-20T07:55:14.544000Z\" # 15 days\n",
    "end_time2 = \"2022-08-05T07:55:14.544000Z\" # 30 days\n",
    "pro_interval = 600000 # 10 minutes processing time\n",
    "agg_name = \"Average\""
   ]
  },
  {
   "cell_type": "code",
   "execution_count": null,
   "metadata": {},
   "outputs": [],
   "source": [
    "# All the sites on the OPC server\n",
    "sites = model.get_objects_of_type('SiteType', return_format=\"dataframe\")\n",
    "sites"
   ]
  },
  {
   "cell_type": "code",
   "execution_count": null,
   "metadata": {},
   "outputs": [],
   "source": [
    "# Selecting specific site \n",
    "sitename = 'EG-AS'\n",
    "site = sites[sites['DisplayName'] == sitename]"
   ]
  },
  {
   "cell_type": "markdown",
   "metadata": {},
   "source": [
    "INVERTERS DATA"
   ]
  },
  {
   "cell_type": "code",
   "execution_count": null,
   "metadata": {},
   "outputs": [],
   "source": [
    "# All the inverters on the site\n",
    "inverters = model.get_object_descendants(\"InverterType\", site, \"PV_Assets\", return_format=\"dataframe\")\n",
    "inverters"
   ]
  },
  {
   "cell_type": "code",
   "execution_count": null,
   "metadata": {},
   "outputs": [],
   "source": [
    "# List of unique inverter variables\n",
    "inv_var_list = ['ACActivePower', 'ACCurrentAverage', 'ACCurrentPhaseA', 'ACCurrentPhaseB', 'ACCurrentPhaseC', 'ACDailyActiveEnergy', 'ACReactivePower', 'ACTotalActiveEnergy', \n",
    "'ACVoltagePhaseAB', 'ACVoltagePhaseAC', 'ACVoltagePhaseBC', 'DCCurrent', 'DCPower', 'DCVoltage', 'Frequency', 'PowerFactor', 'Status']"
   ]
  },
  {
   "cell_type": "code",
   "execution_count": null,
   "metadata": {},
   "outputs": [],
   "source": [
    "# Live value inverters data\n",
    "inv_liv_values = tsdata.get_live_values_data(inv_var_list, inverters)\n",
    "inv_liv_values"
   ]
  },
  {
   "cell_type": "code",
   "execution_count": null,
   "metadata": {},
   "outputs": [],
   "source": [
    "# 1 day aggregated historical inverter data\n",
    "await tsdata.get_agg_hist_value_data(start_time=start_time, end_time=end_time, pro_interval=pro_interval, agg_name=agg_name, obj_dataframe=inverters, include_variables=inv_var_list)"
   ]
  },
  {
   "cell_type": "code",
   "execution_count": null,
   "metadata": {},
   "outputs": [],
   "source": [
    "# 15 day inverters data\n",
    "await tsdata.get_agg_hist_value_data(start_time, end_time1, pro_interval, agg_name, inverters, inv_var_list)"
   ]
  },
  {
   "cell_type": "code",
   "execution_count": null,
   "metadata": {},
   "outputs": [],
   "source": [
    "# 1 month inverter data \n",
    "await tsdata.get_agg_hist_value_data(start_time, end_time2, pro_interval, agg_name, inverters, inv_var_list)"
   ]
  },
  {
   "cell_type": "markdown",
   "metadata": {},
   "source": [
    "STRINGS DATA"
   ]
  },
  {
   "cell_type": "code",
   "execution_count": null,
   "metadata": {},
   "outputs": [],
   "source": [
    "# Strings set data \n",
    "strings = model.get_object_descendants(\"StringSetType\", site, \"PV_Assets\", return_format=\"dataframe\")\n",
    "strings"
   ]
  },
  {
   "cell_type": "code",
   "execution_count": null,
   "metadata": {},
   "outputs": [],
   "source": [
    "# List of strings variables\n",
    "strng_var_list = ['DCCurrent', 'DCPower', 'DCVoltage', 'RelativeDCPower']"
   ]
  },
  {
   "cell_type": "code",
   "execution_count": null,
   "metadata": {},
   "outputs": [],
   "source": [
    "# Live value strings data \n",
    "strng_liv_values = tsdata.get_live_values_data(strng_var_list, strings)\n",
    "strng_liv_values"
   ]
  },
  {
   "cell_type": "code",
   "execution_count": null,
   "metadata": {},
   "outputs": [],
   "source": [
    "# 1 day strings data\n",
    "await tsdata.get_agg_hist_value_data(start_time, end_time, pro_interval, agg_name, strings, strng_var_list)"
   ]
  },
  {
   "cell_type": "code",
   "execution_count": null,
   "metadata": {},
   "outputs": [],
   "source": [
    "# 15 days strings data\n",
    "await tsdata.get_agg_hist_value_data(start_time, end_time1, pro_interval, agg_name, strings, strng_var_list)"
   ]
  },
  {
   "cell_type": "code",
   "execution_count": null,
   "metadata": {},
   "outputs": [],
   "source": [
    "# 1 month strings data\n",
    "await tsdata.get_agg_hist_value_data(start_time, end_time2, pro_interval, agg_name, strings, strng_var_list)"
   ]
  },
  {
   "cell_type": "markdown",
   "metadata": {},
   "source": [
    "TRACKERS DATA"
   ]
  },
  {
   "cell_type": "code",
   "execution_count": null,
   "metadata": {},
   "outputs": [],
   "source": [
    "# Trackers data \n",
    "trackers = model.get_object_ancestors_as_dataframe(\"TrackerType\", strings, \"PV_Serves\")\n",
    "trackers"
   ]
  },
  {
   "cell_type": "code",
   "execution_count": null,
   "metadata": {},
   "outputs": [],
   "source": [
    "track_var_list = ['AngleMeasured', 'AngleSetpoint']"
   ]
  },
  {
   "cell_type": "code",
   "execution_count": null,
   "metadata": {},
   "outputs": [],
   "source": [
    "# Live value trackers data\n",
    "track_liv_values = tsdata.get_live_values_data(track_var_list, trackers)\n",
    "track_liv_values"
   ]
  },
  {
   "cell_type": "code",
   "execution_count": null,
   "metadata": {},
   "outputs": [],
   "source": [
    "# 1 day trackers data\n",
    "await tsdata.get_agg_hist_value_data(start_time, end_time, pro_interval, agg_name, trackers, track_var_list)"
   ]
  },
  {
   "cell_type": "code",
   "execution_count": null,
   "metadata": {},
   "outputs": [],
   "source": [
    "# 15 day trackers data \n",
    "\n",
    "await tsdata.get_agg_hist_value_data(start_time, end_time1, pro_interval, agg_name, trackers, track_var_list)"
   ]
  },
  {
   "cell_type": "code",
   "execution_count": null,
   "metadata": {},
   "outputs": [],
   "source": [
    "# 1 month trackers data \n",
    "await tsdata.get_agg_hist_value_data(start_time, end_time2, pro_interval, agg_name, trackers, track_var_list)"
   ]
  }
 ],
 "metadata": {
  "kernelspec": {
   "display_name": "pyPrediktorMapClient",
   "language": "python",
   "name": "pyprediktormapclient"
  },
  "language_info": {
   "codemirror_mode": {
    "name": "ipython",
    "version": 3
   },
   "file_extension": ".py",
   "mimetype": "text/x-python",
   "name": "python",
   "nbconvert_exporter": "python",
   "pygments_lexer": "ipython3",
   "version": "3.10.6"
  },
  "orig_nbformat": 4,
  "vscode": {
   "interpreter": {
    "hash": "86b5af181f347ecd01eceb9b80776cb7c4e152a2fa5eb849b10480c426c811ed"
   }
  }
 },
 "nbformat": 4,
 "nbformat_minor": 2
}
