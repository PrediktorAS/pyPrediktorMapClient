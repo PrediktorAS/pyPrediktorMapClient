{
 "cells": [
  {
   "cell_type": "markdown",
   "metadata": {},
   "source": [
    "This notebook contains examples of using model index and OPC UA functions to download inverters, strings set and trackers data of the first site from the model index and OPC UA api servers. The aggregated historical data downloaded in the data folder and cell execution time can be noted for each request."
   ]
  },
  {
   "cell_type": "markdown",
   "metadata": {},
   "source": [
    "### Import Libraries"
   ]
  },
  {
   "cell_type": "code",
   "execution_count": null,
   "metadata": {},
   "outputs": [],
   "source": [
    "# Import the required packeages\n",
    "import pandas as pd\n",
    "from typing import List, Dict\n",
    "import sys\n",
    "import os\n",
    "import json\n",
    "import asyncio\n",
    "import datetime"
   ]
  },
  {
   "cell_type": "markdown",
   "metadata": {},
   "source": [
    "### Import Scripts"
   ]
  },
  {
   "cell_type": "code",
   "execution_count": null,
   "metadata": {},
   "outputs": [],
   "source": [
    "# Setting the path\n",
    "module_path = os.path.abspath(os.path.join(\"../src/pyprediktormapclient/\"))\n",
    "print(module_path)\n",
    "if module_path not in sys.path:\n",
    "    sys.path.append(module_path)"
   ]
  },
  {
   "cell_type": "code",
   "execution_count": null,
   "metadata": {},
   "outputs": [],
   "source": [
    "# Import model index functions\n",
    "from pyprediktormapclient.model_index import ModelIndex\n",
    "\n",
    "# Import OPC UA functions\n",
    "from pyprediktormapclient.opc_ua import OPC_UA\n",
    "\n",
    "# Import Analytics Helper\n",
    "from pyprediktormapclient.analytics_helper import AnalyticsHelper\n",
    "\n",
    "# Import \"Dataframer\" Tools\n",
    "from pyprediktormapclient.shared import *"
   ]
  },
  {
   "cell_type": "code",
   "execution_count": null,
   "metadata": {},
   "outputs": [],
   "source": [
    "# Connection to the servers\n",
    "model_index_url = \"http://10.100.59.152:13371/v1/\"\n",
    "opcua_rest_url = \"https://apis-opcua-api.pview.dev/\"\n",
    "opcua_server_url = \"opc.tcp://81.166.54.193:4853\"\n",
    "\n",
    "# Model index API\n",
    "model = ModelIndex(url=model_index_url)\n",
    "\n",
    "# OPC UA API\n",
    "tsdata = OPC_UA(rest_url=opcua_rest_url, opcua_url= opcua_server_url)"
   ]
  },
  {
   "cell_type": "markdown",
   "metadata": {},
   "source": [
    "### OPC UA server parameters"
   ]
  },
  {
   "cell_type": "code",
   "execution_count": null,
   "metadata": {},
   "outputs": [],
   "source": [
    "# Input parameters for value data\n",
    "\n",
    "# Parameters for aggregate historical data\n",
    "start_time = (datetime.datetime.now() - datetime.timedelta(30)).strftime('%Y-%m-%dT%H:%M:%SZ') # 30 days ago\n",
    "end_time = (datetime.datetime.now() - datetime.timedelta(29)).strftime('%Y-%m-%dT%H:%M:%SZ') # one day of data\n",
    "end_time1 = (datetime.datetime.now() - datetime.timedelta(15)).strftime('%Y-%m-%dT%H:%M:%SZ') # 15 days of data\n",
    "end_time2 = datetime.datetime.now().strftime('%Y-%m-%dT%H:%M:%SZ') # 30 days of data\n",
    "pro_interval = 600000 # 10 minutes processing time\n",
    "agg_name = \"Average\""
   ]
  },
  {
   "cell_type": "code",
   "execution_count": null,
   "metadata": {},
   "outputs": [],
   "source": [
    "# All the sites on the OPC server\n",
    "sites_json = model.get_objects_of_type('SiteType')\n",
    "sites = AnalyticsHelper(sites_json)\n",
    "sites.dataframe"
   ]
  },
  {
   "cell_type": "code",
   "execution_count": null,
   "metadata": {},
   "outputs": [],
   "source": [
    "# Selecting the first site\n",
    "all_site_ids = sites.list_of_ids()\n",
    "first_site_id = all_site_ids[0]\n",
    "first_site_id"
   ]
  },
  {
   "cell_type": "markdown",
   "metadata": {},
   "source": [
    "INVERTERS DATA"
   ]
  },
  {
   "cell_type": "code",
   "execution_count": null,
   "metadata": {},
   "outputs": [],
   "source": [
    "# All the inverters on the site\n",
    "inverters_json = model.get_object_descendants(\"InverterType\", all_site_ids, \"PV_Assets\")\n",
    "inverters = AnalyticsHelper(inverters_json)\n",
    "inverters.dataframe"
   ]
  },
  {
   "cell_type": "code",
   "execution_count": null,
   "metadata": {},
   "outputs": [],
   "source": [
    "# List of unique inverter variables\n",
    "inv_var_list = ['ACActivePower', 'ACCurrentAverage', 'ACCurrentPhaseA', 'ACCurrentPhaseB', 'ACCurrentPhaseC', 'ACDailyActiveEnergy', 'ACReactivePower', 'ACTotalActiveEnergy', \n",
    "'ACVoltagePhaseAB', 'ACVoltagePhaseAC', 'ACVoltagePhaseBC', 'DCCurrent', 'DCPower', 'DCVoltage', 'Frequency', 'PowerFactor', 'Status']"
   ]
  },
  {
   "cell_type": "code",
   "execution_count": null,
   "metadata": {},
   "outputs": [],
   "source": [
    "# Live value inverters data\n",
    "inv_liv_values = tsdata.get_live_values_data(inv_var_list, inverters.dataframe)\n",
    "inv_liv_values"
   ]
  },
  {
   "cell_type": "code",
   "execution_count": null,
   "metadata": {},
   "outputs": [],
   "source": [
    "# 1 day aggregated historical inverter data\n",
    "await tsdata.get_agg_hist_value_data(start_time=start_time, end_time=end_time, pro_interval=pro_interval, agg_name=agg_name, obj_dataframe=inverters.dataframe, include_variables=inv_var_list)"
   ]
  },
  {
   "cell_type": "code",
   "execution_count": null,
   "metadata": {},
   "outputs": [],
   "source": [
    "# 15 day inverters data\n",
    "await tsdata.get_agg_hist_value_data(start_time, end_time1, pro_interval, agg_name, inverters.dataframe, inv_var_list)"
   ]
  },
  {
   "cell_type": "code",
   "execution_count": null,
   "metadata": {},
   "outputs": [],
   "source": [
    "# 1 month inverter data \n",
    "await tsdata.get_agg_hist_value_data(start_time, end_time2, pro_interval, agg_name, inverters.dataframe, inv_var_list)"
   ]
  },
  {
   "cell_type": "markdown",
   "metadata": {},
   "source": [
    "STRINGS DATA"
   ]
  },
  {
   "cell_type": "code",
   "execution_count": null,
   "metadata": {},
   "outputs": [],
   "source": [
    "# Strings set data \n",
    "strings_json = model.get_object_descendants(\"StringSetType\", all_site_ids, \"PV_Assets\")\n",
    "strings = AnalyticsHelper(strings_json)\n",
    "strings.dataframe"
   ]
  },
  {
   "cell_type": "code",
   "execution_count": null,
   "metadata": {},
   "outputs": [],
   "source": [
    "# List of strings variables\n",
    "strng_var_list = ['DCCurrent', 'DCPower', 'DCVoltage', 'RelativeDCPower']"
   ]
  },
  {
   "cell_type": "code",
   "execution_count": null,
   "metadata": {},
   "outputs": [],
   "source": [
    "# Live value strings data \n",
    "strng_liv_values = tsdata.get_live_values_data(strng_var_list, strings.dataframe)\n",
    "strng_liv_values"
   ]
  },
  {
   "cell_type": "code",
   "execution_count": null,
   "metadata": {},
   "outputs": [],
   "source": [
    "# 1 day strings data\n",
    "await tsdata.get_agg_hist_value_data(start_time, end_time, pro_interval, agg_name, strings.dataframe, strng_var_list)"
   ]
  },
  {
   "cell_type": "code",
   "execution_count": null,
   "metadata": {},
   "outputs": [],
   "source": [
    "# 15 days strings data\n",
    "await tsdata.get_agg_hist_value_data(start_time, end_time1, pro_interval, agg_name, strings.dataframe, strng_var_list)"
   ]
  },
  {
   "cell_type": "code",
   "execution_count": null,
   "metadata": {},
   "outputs": [],
   "source": [
    "# 1 month strings data\n",
    "await tsdata.get_agg_hist_value_data(start_time, end_time2, pro_interval, agg_name, strings.dataframe, strng_var_list)"
   ]
  },
  {
   "cell_type": "markdown",
   "metadata": {},
   "source": [
    "TRACKERS DATA"
   ]
  },
  {
   "cell_type": "code",
   "execution_count": null,
   "metadata": {},
   "outputs": [],
   "source": [
    "# Trackers data \n",
    "trackers_json = model.get_object_ancestors(\"TrackerType\", strings.list_of_ids(), \"PV_Serves\")\n",
    "trackers = AnalyticsHelper(trackers_json)\n",
    "trackers.dataframe"
   ]
  },
  {
   "cell_type": "code",
   "execution_count": null,
   "metadata": {},
   "outputs": [],
   "source": [
    "track_var_list = ['AngleMeasured', 'AngleSetpoint']"
   ]
  },
  {
   "cell_type": "code",
   "execution_count": null,
   "metadata": {},
   "outputs": [],
   "source": [
    "# Live value trackers data\n",
    "track_liv_values = tsdata.get_live_values_data(track_var_list, trackers.dataframe)\n",
    "track_liv_values"
   ]
  },
  {
   "cell_type": "code",
   "execution_count": null,
   "metadata": {},
   "outputs": [],
   "source": [
    "# 1 day trackers data\n",
    "await tsdata.get_agg_hist_value_data(start_time, end_time, pro_interval, agg_name, trackers.dataframe, track_var_list)"
   ]
  },
  {
   "cell_type": "code",
   "execution_count": null,
   "metadata": {},
   "outputs": [],
   "source": [
    "# 15 day trackers data \n",
    "\n",
    "await tsdata.get_agg_hist_value_data(start_time, end_time1, pro_interval, agg_name, trackers.dataframe, track_var_list)"
   ]
  },
  {
   "cell_type": "code",
   "execution_count": null,
   "metadata": {},
   "outputs": [],
   "source": [
    "# 1 month trackers data \n",
    "await tsdata.get_agg_hist_value_data(start_time, end_time2, pro_interval, agg_name, trackers.dataframe, track_var_list)"
   ]
  }
 ],
 "metadata": {
  "kernelspec": {
   "display_name": "Python 3.10.6 ('.venv': poetry)",
   "language": "python",
   "name": "python3"
  },
  "language_info": {
   "codemirror_mode": {
    "name": "ipython",
    "version": 3
   },
   "file_extension": ".py",
   "mimetype": "text/x-python",
   "name": "python",
   "nbconvert_exporter": "python",
   "pygments_lexer": "ipython3",
   "version": "3.10.6"
  },
  "orig_nbformat": 4,
  "vscode": {
   "interpreter": {
    "hash": "86b5af181f347ecd01eceb9b80776cb7c4e152a2fa5eb849b10480c426c811ed"
   }
  }
 },
 "nbformat": 4,
 "nbformat_minor": 2
}
