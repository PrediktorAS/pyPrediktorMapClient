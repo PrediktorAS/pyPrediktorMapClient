{
 "cells": [
  {
   "attachments": {},
   "cell_type": "markdown",
   "metadata": {},
   "source": [
    "This notebook contains examples of using model index and OPC UA functions to download inverters, strings set and trackers data of the first site from the model index and OPC UA api servers. The aggregated historical data downloaded in the data folder and cell execution time can be noted for each request."
   ]
  },
  {
   "attachments": {},
   "cell_type": "markdown",
   "metadata": {},
   "source": [
    "### Import Libraries"
   ]
  },
  {
   "cell_type": "code",
   "execution_count": 1,
   "metadata": {},
   "outputs": [],
   "source": [
    "# Import the required packeages\n",
    "import os\n",
    "import datetime\n",
    "from dotenv import load_dotenv \n",
    "from pathlib import Path"
   ]
  },
  {
   "attachments": {},
   "cell_type": "markdown",
   "metadata": {},
   "source": [
    "### Import Scripts"
   ]
  },
  {
   "cell_type": "code",
   "execution_count": 2,
   "metadata": {},
   "outputs": [],
   "source": [
    "from pyprediktormapclient.opc_ua import OPC_UA\n",
    "from pyprediktormapclient.model_index import ModelIndex\n",
    "from pyprediktormapclient.auth_client import AUTH_CLIENT\n",
    "from pyprediktormapclient.analytics_helper import AnalyticsHelper\n",
    "from pyprediktormapclient.shared import *"
   ]
  },
  {
   "cell_type": "code",
   "execution_count": null,
   "metadata": {},
   "outputs": [],
   "source": [
    "# Consider obtaining the envrionment variables from .env file if you are running this locally from source.\n",
    "dotenv_path = Path(\"../.env\")\n",
    "load_dotenv(dotenv_path=dotenv_path)"
   ]
  },
  {
   "cell_type": "code",
   "execution_count": 4,
   "metadata": {},
   "outputs": [],
   "source": [
    "username = os.environ[\"USERNAME\"]\n",
    "password = os.environ[\"PASSWORD\"]\n",
    "opcua_rest_url = os.environ[\"OPC_UA_REST_URL\"]\n",
    "opcua_server_url = os.environ[\"OPC_UA_SERVER_URL\"]\n",
    "model_index_url = os.environ[\"MODEL_INDEX_URL\"]\n",
    "ory_url = os.environ[\"ORY_URL\"]"
   ]
  },
  {
   "cell_type": "code",
   "execution_count": 5,
   "metadata": {},
   "outputs": [],
   "source": [
    "# Model index API\n",
    "model = ModelIndex(url=model_index_url)"
   ]
  },
  {
   "attachments": {},
   "cell_type": "markdown",
   "metadata": {},
   "source": [
    "### OPC UA server parameters"
   ]
  },
  {
   "cell_type": "code",
   "execution_count": null,
   "metadata": {},
   "outputs": [],
   "source": [
    "model.get_objects_of_type(\"InverterType\")"
   ]
  },
  {
   "cell_type": "code",
   "execution_count": null,
   "metadata": {},
   "outputs": [],
   "source": [
    "# All the sites on the OPC server\n",
    "sites_json = model.get_objects_of_type(\"SiteType\")\n",
    "sites = AnalyticsHelper(sites_json)\n",
    "sites.dataframe"
   ]
  },
  {
   "cell_type": "code",
   "execution_count": null,
   "metadata": {},
   "outputs": [],
   "source": [
    "# Selecting the second site\n",
    "all_site_ids = sites.list_of_ids()\n",
    "first_site_id = all_site_ids[1]\n",
    "first_site_id"
   ]
  },
  {
   "cell_type": "code",
   "execution_count": 9,
   "metadata": {},
   "outputs": [],
   "source": [
    "# Initate the OPC UA connection\n",
    "tsdata = OPC_UA(rest_url=opcua_rest_url, opcua_url=opcua_server_url, namespaces=sites.namespaces_as_list(model.get_namespace_array()))"
   ]
  },
  {
   "attachments": {},
   "cell_type": "markdown",
   "metadata": {},
   "source": [
    "INVERTERS DATA"
   ]
  },
  {
   "cell_type": "code",
   "execution_count": null,
   "metadata": {},
   "outputs": [],
   "source": [
    "# All the inverters on the site\n",
    "inverters_json = model.get_object_descendants(\"InverterType\", all_site_ids, \"PV_Assets\")\n",
    "inverters = AnalyticsHelper(inverters_json)\n",
    "inverters.dataframe"
   ]
  },
  {
   "cell_type": "code",
   "execution_count": 11,
   "metadata": {},
   "outputs": [],
   "source": [
    "# List of unique inverter variables\n",
    "inv_var_list = [\n",
    "    \"ACActivePower\",\n",
    "    \"ACCurrentAverage\",\n",
    "    \"ACCurrentPhaseA\",\n",
    "    \"ACCurrentPhaseB\",\n",
    "    \"ACCurrentPhaseC\",\n",
    "    \"ACDailyActiveEnergy\",\n",
    "    \"ACReactivePower\",\n",
    "    \"ACTotalActiveEnergy\",\n",
    "    \"ACVoltagePhaseAB\",\n",
    "    \"ACVoltagePhaseAC\",\n",
    "    \"ACVoltagePhaseBC\",\n",
    "    \"DCCurrent\",\n",
    "    \"DCPower\",\n",
    "    \"DCVoltage\",\n",
    "    \"Frequency\",\n",
    "    \"PowerFactor\",\n",
    "    \"Status\",\n",
    "]"
   ]
  },
  {
   "cell_type": "code",
   "execution_count": null,
   "metadata": {},
   "outputs": [],
   "source": [
    "# Live value inverters data\n",
    "inv_liv_values = tsdata.get_values(\n",
    "    inverters.variables_as_list(inv_var_list)\n",
    ")\n",
    "inv_liv_values"
   ]
  },
  {
   "cell_type": "code",
   "execution_count": null,
   "metadata": {},
   "outputs": [],
   "source": [
    "# 1 day aggregated historical inverter data\n",
    "one_day_historic_inverter_data = tsdata.get_historical_aggregated_values(\n",
    "    start_time=(datetime.datetime.now() - datetime.timedelta(30)),\n",
    "    end_time=(datetime.datetime.now() - datetime.timedelta(29)),\n",
    "    pro_interval=60*1000,\n",
    "    agg_name=\"Average\",\n",
    "    variable_list=inverters.variables_as_list(inv_var_list),\n",
    ")\n",
    "one_day_historic_inverter_data"
   ]
  },
  {
   "cell_type": "code",
   "execution_count": null,
   "metadata": {},
   "outputs": [],
   "source": []
  }
 ],
 "metadata": {
  "kernelspec": {
   "display_name": "Python 3.8.8rc1 ('venv': venv)",
   "language": "python",
   "name": "python3"
  },
  "language_info": {
   "codemirror_mode": {
    "name": "ipython",
    "version": 3
   },
   "file_extension": ".py",
   "mimetype": "text/x-python",
   "name": "python",
   "nbconvert_exporter": "python",
   "pygments_lexer": "ipython3",
   "version": "3.11.0"
  },
  "orig_nbformat": 4,
  "vscode": {
   "interpreter": {
    "hash": "626e78e66dd3e491dc80ec62ac53e2fcfaf5256992b8d342f15c51ea0db7102b"
   }
  }
 },
 "nbformat": 4,
 "nbformat_minor": 2
}
