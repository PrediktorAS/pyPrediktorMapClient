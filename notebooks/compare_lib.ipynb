{
 "cells": [
  {
   "cell_type": "code",
   "execution_count": 1,
   "metadata": {},
   "outputs": [],
   "source": [
    "# Import the required packeages\n",
    "import pandas as pd\n",
    "import urllib3\n",
    "urllib3.disable_warnings()\n",
    "from pandas.io.json import json_normalize\n",
    "from typing import List, Dict\n",
    "import sys\n",
    "import os\n",
    "import numpy as np\n",
    "import concurrent.futures\n",
    "import json\n",
    "import itertools\n",
    "from aiohttp import ClientSession\n",
    "import asyncio\n",
    "import dask.dataframe as dd"
   ]
  },
  {
   "cell_type": "code",
   "execution_count": 2,
   "metadata": {},
   "outputs": [
    {
     "name": "stdout",
     "output_type": "stream",
     "text": [
      "/home/meena/dev/pyPrediktorMapClient/src/pyprediktormapclient\n"
     ]
    }
   ],
   "source": [
    "# Setting the path\n",
    "module_path = os.path.abspath(os.path.join(\"../src/pyprediktormapclient/\"))\n",
    "print(module_path)\n",
    "if module_path not in sys.path:\n",
    "    sys.path.append(module_path)"
   ]
  },
  {
   "cell_type": "code",
   "execution_count": 3,
   "metadata": {},
   "outputs": [],
   "source": [
    "# Import model index functions\n",
    "from model_index import ModelIndex\n",
    "\n",
    "# Import OPC UA functions\n",
    "from opc_ua import OPC_UA"
   ]
  },
  {
   "cell_type": "code",
   "execution_count": 4,
   "metadata": {},
   "outputs": [],
   "source": [
    "# Connection to the servers\n",
    "model_index_url = \"http://10.241.68.86:7001/v1/\"\n",
    "opc_url = \"http://10.241.68.86:13371/\"\n",
    "\n",
    "# Model index API\n",
    "mdx = ModelIndex(url=model_index_url)\n",
    "\n",
    "# OPC UA API\n",
    "opc = OPC_UA(url=opc_url)"
   ]
  },
  {
   "cell_type": "code",
   "execution_count": 5,
   "metadata": {},
   "outputs": [],
   "source": [
    "# Input parameters for value data\n",
    "server_url = \"opc.tcp://10.241.80.4:4872\"\n",
    "# Parameters for aggregate historical data\n",
    "start_time = \"2022-07-05T07:55:14.544000Z\" # 5th July aggregated data \n",
    "end_time = \"2022-07-06T07:55:14.544000Z\"\n",
    "pro_interval = 600000 # 10 minutes processing time\n",
    "agg_name = \"Average\"\n",
    "\n",
    "pro_interval1 = 3600000 # 1 hour processing time\n",
    "end_time1 = \"2022-07-10T07:55:14.544000Z\" # 5 days\n",
    "end_time2 = \"2022-07-15T07:55:14.544000Z\" # 10 days\n",
    "end_time3 = \"2022-08-05T07:55:14.544000Z\" # 30 days"
   ]
  },
  {
   "cell_type": "markdown",
   "metadata": {},
   "source": [
    "INVERTERS"
   ]
  },
  {
   "cell_type": "code",
   "execution_count": 7,
   "metadata": {},
   "outputs": [],
   "source": [
    "inverters = mdx.get_object_descendants(\"InverterType\", ['13:1:SSO.JO-GL'], \"PV_Assets\")"
   ]
  },
  {
   "cell_type": "code",
   "execution_count": 8,
   "metadata": {},
   "outputs": [],
   "source": [
    "# Node ids of the inverters Nodes\n",
    "inv_node_ids = mdx.get_vars_node_ids(inverters) "
   ]
  },
  {
   "cell_type": "code",
   "execution_count": 9,
   "metadata": {},
   "outputs": [],
   "source": [
    "# Convert the json data into dataframe\n",
    "inverters_df = mdx.expand_props_vars(inverters)"
   ]
  },
  {
   "cell_type": "markdown",
   "metadata": {},
   "source": [
    "There are 12 inverters and 300 inverter variables' node ids for the site."
   ]
  },
  {
   "cell_type": "code",
   "execution_count": 10,
   "metadata": {},
   "outputs": [],
   "source": [
    "# List of unique inverter variables\n",
    "inv_var_list = ['ACActivePower', 'ACCurrentAverage', 'ACCurrentPhaseA', 'ACCurrentPhaseB', 'ACCurrentPhaseC',\n",
    "'ACDailyActiveEnergy', 'ACReactivePower', 'ACTotalActiveEnergy', 'ACVoltagePhaseAB', 'ACVoltagePhaseAC', 'ACVoltagePhaseBC', 'DCCurrent', 'DCPower', 'DCVoltage', 'Frequency', 'PowerFactor',\n",
    "'Status', 'TemperatureCoil', 'TemperatureCoolingIn', 'TemperatureCore']"
   ]
  },
  {
   "cell_type": "markdown",
   "metadata": {},
   "source": [
    "STRINGS"
   ]
  },
  {
   "cell_type": "code",
   "execution_count": 1,
   "metadata": {},
   "outputs": [
    {
     "ename": "NameError",
     "evalue": "name 'mdx' is not defined",
     "output_type": "error",
     "traceback": [
      "\u001b[0;31m---------------------------------------------------------------------------\u001b[0m",
      "\u001b[0;31mNameError\u001b[0m                                 Traceback (most recent call last)",
      "\u001b[1;32m/home/meena/dev/pyPrediktorMapClient/notebooks/compare_lib.ipynb Cell 13\u001b[0m in \u001b[0;36m<cell line: 2>\u001b[0;34m()\u001b[0m\n\u001b[1;32m      <a href='vscode-notebook-cell://wsl%2Bubuntu/home/meena/dev/pyPrediktorMapClient/notebooks/compare_lib.ipynb#X15sdnNjb2RlLXJlbW90ZQ%3D%3D?line=0'>1</a>\u001b[0m \u001b[39m# Strings set type data \u001b[39;00m\n\u001b[0;32m----> <a href='vscode-notebook-cell://wsl%2Bubuntu/home/meena/dev/pyPrediktorMapClient/notebooks/compare_lib.ipynb#X15sdnNjb2RlLXJlbW90ZQ%3D%3D?line=1'>2</a>\u001b[0m strings \u001b[39m=\u001b[39m mdx\u001b[39m.\u001b[39mget_object_descendants(\u001b[39m\"\u001b[39m\u001b[39mStringSetType\u001b[39m\u001b[39m\"\u001b[39m, [\u001b[39m'\u001b[39m\u001b[39m13:1:SSO.JO-GL\u001b[39m\u001b[39m'\u001b[39m], \u001b[39m\"\u001b[39m\u001b[39mPV_Assets\u001b[39m\u001b[39m\"\u001b[39m)\n",
      "\u001b[0;31mNameError\u001b[0m: name 'mdx' is not defined"
     ]
    }
   ],
   "source": [
    "# Strings set type data \n",
    "strings = mdx.get_object_descendants(\"StringSetType\", ['13:1:SSO.JO-GL'], \"PV_Assets\")"
   ]
  },
  {
   "cell_type": "code",
   "execution_count": 12,
   "metadata": {},
   "outputs": [],
   "source": [
    "# Node ids of the strings Nodes\n",
    "strngs_node_ids = mdx.get_vars_node_ids(strings) "
   ]
  },
  {
   "cell_type": "code",
   "execution_count": 13,
   "metadata": {},
   "outputs": [],
   "source": [
    "# Convert the json data into dataframe\n",
    "strings_df = mdx.expand_props_vars(strings)"
   ]
  },
  {
   "cell_type": "markdown",
   "metadata": {},
   "source": [
    "902 strings are there for the site and with 14 variables for each string, 12628 variables node ids present. "
   ]
  },
  {
   "cell_type": "code",
   "execution_count": 14,
   "metadata": {},
   "outputs": [],
   "source": [
    "strng_var_list = ['DCCurrent', 'DCPower', 'DCVoltage', 'RelativeDCPower', 'Status']"
   ]
  },
  {
   "cell_type": "markdown",
   "metadata": {},
   "source": [
    "TRACKERS"
   ]
  },
  {
   "cell_type": "code",
   "execution_count": 16,
   "metadata": {},
   "outputs": [],
   "source": [
    "# Object ids of strings set type objects to get trackers data\n",
    "string_objects_ids = [x['DescendantId'] for x in strings]"
   ]
  },
  {
   "cell_type": "code",
   "execution_count": 17,
   "metadata": {},
   "outputs": [],
   "source": [
    "# Tracker type data \n",
    "trackers = mdx.get_object_ancestors(\"TrackerType\", string_objects_ids, \"PV_Serves\")"
   ]
  },
  {
   "cell_type": "code",
   "execution_count": 18,
   "metadata": {},
   "outputs": [],
   "source": [
    "# Node ids of the trackers Nodes\n",
    "tracker_ids = mdx.get_vars_node_ids(trackers) "
   ]
  },
  {
   "cell_type": "code",
   "execution_count": 19,
   "metadata": {},
   "outputs": [],
   "source": [
    "tracker_node_ids = pd.unique(tracker_ids)"
   ]
  },
  {
   "cell_type": "code",
   "execution_count": 20,
   "metadata": {},
   "outputs": [],
   "source": [
    "# Convert the json data into dataframe\n",
    "trackers_df = mdx.expand_props_vars(trackers)"
   ]
  },
  {
   "cell_type": "markdown",
   "metadata": {},
   "source": [
    "There are 165 trackers are plotted on JO-GL site and each tracker has 4 variables to measure four different parameters. (But more than one string can be under one tracker)"
   ]
  },
  {
   "cell_type": "code",
   "execution_count": 21,
   "metadata": {},
   "outputs": [],
   "source": [
    "track_var_list = ['TrackingLimitEastAngle', 'TrackingLimitWestAngle', 'AngleMeasured', 'AngleSetpoint']"
   ]
  },
  {
   "cell_type": "code",
   "execution_count": 22,
   "metadata": {},
   "outputs": [],
   "source": [
    "track_var_list1 = track_var_list[3:5]"
   ]
  },
  {
   "cell_type": "markdown",
   "metadata": {},
   "source": [
    "- Inverters' variables node ids: 300 \n",
    "- Strings' variables node ids: 12628 \n",
    "- Trackers' variables node ids: 650"
   ]
  },
  {
   "cell_type": "markdown",
   "metadata": {},
   "source": [
    "Live Value"
   ]
  },
  {
   "cell_type": "code",
   "execution_count": 23,
   "metadata": {},
   "outputs": [],
   "source": [
    "# Live value inverter data for all the variables\n",
    "inv_liv_values = opc.get_live_values(server_url, inv_var_list, inv_node_ids)"
   ]
  },
  {
   "cell_type": "markdown",
   "metadata": {},
   "source": [
    "Live data values of 12 inverters for all variables (300 node ids) took 0.7 seconds"
   ]
  },
  {
   "cell_type": "code",
   "execution_count": 24,
   "metadata": {},
   "outputs": [],
   "source": [
    "# Live value strings data for all the variables\n",
    "strng_liv_values = opc.get_live_values(server_url, strng_var_list, strngs_node_ids)"
   ]
  },
  {
   "cell_type": "markdown",
   "metadata": {},
   "source": [
    "While strings live value data for 12628 node ids returned in 0.8 seconds."
   ]
  },
  {
   "cell_type": "code",
   "execution_count": 25,
   "metadata": {},
   "outputs": [],
   "source": [
    "# Live value trackers data for all the variables\n",
    "track_liv_values = opc.get_live_values(server_url, track_var_list, tracker_node_ids)"
   ]
  },
  {
   "cell_type": "markdown",
   "metadata": {},
   "source": [
    "Trackers live value data for 350 node ids returned in 0.3 seconds."
   ]
  },
  {
   "cell_type": "markdown",
   "metadata": {},
   "source": [
    "Inverters aggregated historical data"
   ]
  },
  {
   "cell_type": "code",
   "execution_count": 26,
   "metadata": {},
   "outputs": [
    {
     "name": "stdout",
     "output_type": "stream",
     "text": [
      "Success: 0\n"
     ]
    }
   ],
   "source": [
    "# 1 day aggregated historical inverter data of site JO-GL for all the variables (10 minutes processing time)\n",
    "session = ClientSession()\n",
    "await opc.get_agg_hist_value_chunks_parallel(session,server_url, start_time, end_time, pro_interval, agg_name, inv_node_ids, inv_var_list, 100000,1000,10)\n",
    "await session.close()"
   ]
  },
  {
   "cell_type": "markdown",
   "metadata": {},
   "source": [
    "1.6 seconds"
   ]
  },
  {
   "cell_type": "code",
   "execution_count": null,
   "metadata": {},
   "outputs": [],
   "source": [
    "# 10 day aggregated historical inverter data of site JO-GL for all the variables (10 minutes processing time)\n",
    "session = ClientSession()\n",
    "await opc.get_agg_hist_value_chunks_parallel(session,server_url, start_time, end_time2, pro_interval, agg_name, inv_node_ids, inv_var_list, 100000,1000,10)\n",
    "await session.close()"
   ]
  },
  {
   "cell_type": "markdown",
   "metadata": {},
   "source": [
    "6.9 seconds"
   ]
  },
  {
   "cell_type": "code",
   "execution_count": null,
   "metadata": {},
   "outputs": [],
   "source": [
    "# 1 month aggregated historical inverter data of site JO-GL for all the variables (10 minutes processing time)\n",
    "session = ClientSession()\n",
    "await opc.get_agg_hist_value_chunks_parallel(session,server_url, start_time, end_time3, pro_interval, agg_name, inv_node_ids, inv_var_list, 100000,1000,10)\n",
    "await session.close()"
   ]
  },
  {
   "cell_type": "markdown",
   "metadata": {},
   "source": [
    "41.2 seconds"
   ]
  },
  {
   "cell_type": "markdown",
   "metadata": {},
   "source": [
    "Strings aggregated historical data"
   ]
  },
  {
   "cell_type": "code",
   "execution_count": null,
   "metadata": {},
   "outputs": [],
   "source": [
    "# 1 day aggregated historical strings data of site JO-GL for all the variables (10 minutes processing time)\n",
    "session = ClientSession()\n",
    "await opc.get_agg_hist_value_chunks_parallel(session,server_url, start_time, end_time, pro_interval, agg_name, strngs_node_ids, strng_var_list, 100000,1000,10)\n",
    "await session.close()"
   ]
  },
  {
   "cell_type": "markdown",
   "metadata": {},
   "source": [
    "Around 1 minute 29 seconds"
   ]
  },
  {
   "cell_type": "code",
   "execution_count": null,
   "metadata": {},
   "outputs": [],
   "source": [
    "# 10 day aggregated historical strings data of site JO-GL for all the variables (10 minutes processing time)\n",
    "session = ClientSession()\n",
    "await opc.get_agg_hist_value_chunks_parallel(session,server_url, start_time, end_time2, pro_interval, agg_name, strngs_node_ids, strng_var_list, 100000,1000,10)\n",
    "await session.close()"
   ]
  },
  {
   "cell_type": "markdown",
   "metadata": {},
   "source": [
    "4 minutes 48.6 seconds"
   ]
  },
  {
   "cell_type": "code",
   "execution_count": 43,
   "metadata": {},
   "outputs": [
    {
     "name": "stdout",
     "output_type": "stream",
     "text": [
      "Success: 0\n"
     ]
    }
   ],
   "source": [
    "# 1 month aggregated historical strings data of site JO-GL for specific variables (1 hour processing time)\n",
    "session = ClientSession()\n",
    "await opc.get_agg_hist_value_chunks_parallel(session,server_url, start_time, end_time3, pro_interval, agg_name, strngs_node_ids, strng_var_list, 100000,1000,10)\n",
    "await session.close()"
   ]
  },
  {
   "cell_type": "markdown",
   "metadata": {},
   "source": [
    "1 minute 45.5 seconds."
   ]
  },
  {
   "cell_type": "markdown",
   "metadata": {},
   "source": [
    "Trackers aggregated historical data"
   ]
  },
  {
   "cell_type": "code",
   "execution_count": 45,
   "metadata": {},
   "outputs": [
    {
     "name": "stdout",
     "output_type": "stream",
     "text": [
      "Success: 0\n"
     ]
    }
   ],
   "source": [
    "# 1 day aggregated historical trackers data of site JO-GL for all the variables (10 minutes processing time)\n",
    "session = ClientSession()\n",
    "await opc.get_agg_hist_value_chunks_parallel(session,server_url, start_time, end_time, pro_interval, agg_name, tracker_node_ids, track_var_list, 100000,1000,10)\n",
    "await session.close()"
   ]
  },
  {
   "cell_type": "markdown",
   "metadata": {},
   "source": [
    "23.1 seconds"
   ]
  },
  {
   "cell_type": "code",
   "execution_count": 46,
   "metadata": {},
   "outputs": [
    {
     "name": "stdout",
     "output_type": "stream",
     "text": [
      "Success: 0\n"
     ]
    }
   ],
   "source": [
    "# 10 day aggregated historical trackers data of site JO-GL for all the variables (10 minutes processing time)\n",
    "session = ClientSession()\n",
    "await opc.get_agg_hist_value_chunks_parallel(session,server_url, start_time, end_time2, pro_interval, agg_name, tracker_node_ids, track_var_list, 100000,1000,10)\n",
    "await session.close()"
   ]
  },
  {
   "cell_type": "markdown",
   "metadata": {},
   "source": [
    "1 minute 8.3 seconds"
   ]
  },
  {
   "cell_type": "code",
   "execution_count": 48,
   "metadata": {},
   "outputs": [
    {
     "name": "stdout",
     "output_type": "stream",
     "text": [
      "Success: 0\n"
     ]
    }
   ],
   "source": [
    "# 1 month aggregated historical trackers data of site JO-GL for all the variables (10 minutes processing time)\n",
    "session = ClientSession()\n",
    "await opc.get_agg_hist_value_chunks_parallel(session,server_url, start_time, end_time3, pro_interval, agg_name, tracker_node_ids, track_var_list, 100000,1000,10)\n",
    "await session.close()"
   ]
  },
  {
   "cell_type": "markdown",
   "metadata": {},
   "source": [
    "1 minutes 29.5 seconds for two variables"
   ]
  },
  {
   "cell_type": "markdown",
   "metadata": {},
   "source": [
    "Observations"
   ]
  },
  {
   "cell_type": "markdown",
   "metadata": {},
   "source": [
    "Writting data into files while loading improve the efficiency. Since I do not store it in memory so, I can make multiple requests for different datasets. \n",
    "- Big requests happens in loop so there wouldn't be server connection timed out error. "
   ]
  }
 ],
 "metadata": {
  "kernelspec": {
   "display_name": "Python 3.8.10 ('.venv': poetry)",
   "language": "python",
   "name": "python3"
  },
  "language_info": {
   "codemirror_mode": {
    "name": "ipython",
    "version": 3
   },
   "file_extension": ".py",
   "mimetype": "text/x-python",
   "name": "python",
   "nbconvert_exporter": "python",
   "pygments_lexer": "ipython3",
   "version": "3.8.10"
  },
  "orig_nbformat": 4,
  "vscode": {
   "interpreter": {
    "hash": "7f4da5407c789aed4304d38072e4a31f4393d992bee9448078254d6bd7caaa79"
   }
  }
 },
 "nbformat": 4,
 "nbformat_minor": 2
}
