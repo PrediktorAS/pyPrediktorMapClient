{
 "cells": [
  {
   "cell_type": "code",
   "execution_count": null,
   "metadata": {},
   "outputs": [],
   "source": [
    "# Import the required packeages\n",
    "import datetime\n",
    "import os\n",
    "from pyprediktormapclient.opc_ua import OPC_UA\n",
    "from pyprediktormapclient.model_index import ModelIndex\n",
    "from pyprediktormapclient.auth_client import AUTH_CLIENT\n",
    "from dotenv import load_dotenv \n",
    "from pathlib import Path"
   ]
  },
  {
   "cell_type": "code",
   "execution_count": null,
   "metadata": {},
   "outputs": [],
   "source": [
    "# Import Analytics Helper\n",
    "from pyprediktormapclient.analytics_helper import AnalyticsHelper\n",
    "\n",
    "# Import \"Dataframer\" Tools\n",
    "from pyprediktormapclient.shared import *"
   ]
  },
  {
   "cell_type": "code",
   "execution_count": null,
   "metadata": {},
   "outputs": [],
   "source": [
    "# Obtain the envrionment variables from .env file\n",
    "dotenv_path = Path(\"../.env\")\n",
    "load_dotenv(dotenv_path=dotenv_path)"
   ]
  },
  {
   "cell_type": "code",
   "execution_count": null,
   "metadata": {},
   "outputs": [],
   "source": [
    "username = os.environ[\"USERNAME\"]\n",
    "password = os.environ[\"PASSWORD\"]\n",
    "opcua_rest_url = os.environ[\"OPC_UA_REST_URL\"]\n",
    "opcua_server_url = os.environ[\"OPC_UA_SERVER_URL\"]\n",
    "model_index_url = os.environ[\"MODEL_INDEX_URL\"]\n",
    "ory_url = os.environ[\"ORY_URL\"]"
   ]
  },
  {
   "cell_type": "code",
   "execution_count": null,
   "metadata": {},
   "outputs": [],
   "source": [
    "# Getting ory bearer token\n",
    "auth_client = AUTH_CLIENT(rest_url=ory_url, username=username, password=password)\n",
    "auth_client.request_new_ory_token()"
   ]
  },
  {
   "cell_type": "code",
   "execution_count": null,
   "metadata": {},
   "outputs": [],
   "source": [
    "# Connecting to ModelIndex APIs \n",
    "model_data = ModelIndex(url=model_index_url, auth_client=auth_client, session=auth_client.session)"
   ]
  },
  {
   "cell_type": "markdown",
   "metadata": {},
   "source": [
    "### Download data from modelindex api"
   ]
  },
  {
   "cell_type": "code",
   "execution_count": null,
   "metadata": {},
   "outputs": [],
   "source": [
    "# Listed sites on the model index api server\n",
    "namespaces = model_data.get_namespace_array()\n",
    "namespaces"
   ]
  },
  {
   "cell_type": "code",
   "execution_count": null,
   "metadata": {},
   "outputs": [],
   "source": [
    "# Types of Objects\n",
    "object_types_json = model_data.get_object_types()\n",
    "object_types = AnalyticsHelper(object_types_json)\n",
    "object_types.dataframe"
   ]
  },
  {
   "cell_type": "code",
   "execution_count": null,
   "metadata": {},
   "outputs": [],
   "source": [
    "namespace_list = object_types.namespaces_as_list(namespaces)\n",
    "\n",
    "# Initating the OPC UA API with a fixed namespace list\n",
    "opc_data = OPC_UA(rest_url=opcua_rest_url, opcua_url=opcua_server_url, namespaces=namespace_list, auth_client=auth_client)"
   ]
  },
  {
   "cell_type": "code",
   "execution_count": null,
   "metadata": {},
   "outputs": [],
   "source": [
    "# Unique types of Objects\n",
    "object_types_unique = object_types.dataframe[[\"Id\", \"Name\"]].drop_duplicates()\n",
    "object_types_unique"
   ]
  },
  {
   "cell_type": "code",
   "execution_count": null,
   "metadata": {},
   "outputs": [],
   "source": [
    "# To get typeId by type name of an object\n",
    "object_type_id = model_data.get_object_type_id_from_name(\"SiteType\")\n",
    "object_type_id"
   ]
  },
  {
   "cell_type": "code",
   "execution_count": null,
   "metadata": {},
   "outputs": [],
   "source": [
    "# To get the objects of a type\n",
    "sites_json = model_data.get_objects_of_type(\"SiteType\")\n",
    "\n",
    "# Send the returned JSON into a normalizer to get Id, Type, Name, Props and Vars as columns\n",
    "sites = AnalyticsHelper(sites_json)\n",
    "sites.list_of_names()"
   ]
  },
  {
   "cell_type": "code",
   "execution_count": null,
   "metadata": {},
   "outputs": [],
   "source": [
    "# Analytics helper\n",
    "sites.variables_as_dataframe()"
   ]
  },
  {
   "cell_type": "code",
   "execution_count": null,
   "metadata": {},
   "outputs": [],
   "source": [
    "sites.list_of_ids()"
   ]
  },
  {
   "cell_type": "code",
   "execution_count": null,
   "metadata": {},
   "outputs": [],
   "source": [
    "# Selecting the single site\n",
    "site_id = sites.list_of_ids()[1]\n",
    "site_id"
   ]
  },
  {
   "cell_type": "code",
   "execution_count": null,
   "metadata": {},
   "outputs": [],
   "source": [
    "# Get all stringsets for one park\n",
    "string_sets_for_first_park_as_json = model_data.get_object_descendants(\n",
    "    \"StringSetType\", [site_id], \"PV_Assets\"\n",
    ")\n",
    "string_sets_for_first_park = AnalyticsHelper(string_sets_for_first_park_as_json)\n",
    "string_sets_for_first_park.dataframe"
   ]
  },
  {
   "cell_type": "code",
   "execution_count": null,
   "metadata": {},
   "outputs": [],
   "source": [
    "# Ancestors of an object type, get all trackers that are ancestor of the parks string sets\n",
    "\n",
    "trackers_as_json = model_data.get_object_ancestors(\n",
    "    \"TrackerType\", string_sets_for_first_park.list_of_ids(), \"PV_Serves\"\n",
    ")\n",
    "trackers = AnalyticsHelper(trackers_as_json)\n",
    "trackers.variables_as_dataframe()"
   ]
  },
  {
   "cell_type": "markdown",
   "metadata": {},
   "source": [
    "### Download data from the opc ua api"
   ]
  },
  {
   "cell_type": "code",
   "execution_count": null,
   "metadata": {},
   "outputs": [],
   "source": [
    "# Live value data of trackers\n",
    "live_value = opc_data.get_values(\n",
    "    trackers.variables_as_list([\"AngleMeasured\", \"AngleSetpoint\"])\n",
    ")\n",
    "live_value"
   ]
  },
  {
   "cell_type": "code",
   "execution_count": null,
   "metadata": {},
   "outputs": [],
   "source": [
    "# Historic value data of trackers, 1 days worth of data 30 days ago\n",
    "one_day_historic_tracker_data = opc_data.get_historical_aggregated_values(\n",
    "    start_time=(datetime.datetime.now() - datetime.timedelta(30)),\n",
    "    end_time=(datetime.datetime.now() - datetime.timedelta(29)),\n",
    "    pro_interval=3600000,\n",
    "    agg_name=\"Average\",\n",
    "    variable_list=trackers.variables_as_list([\"AngleMeasured\"]),\n",
    ")\n",
    "one_day_historic_tracker_data"
   ]
  },
  {
   "cell_type": "markdown",
   "metadata": {},
   "source": [
    "##### Ory Authentication"
   ]
  },
  {
   "cell_type": "code",
   "execution_count": null,
   "metadata": {},
   "outputs": [],
   "source": [
    "import requests\n",
    "import logging\n",
    "from pydantic import AnyUrl, validate_call\n",
    "from typing import Literal"
   ]
  },
  {
   "cell_type": "code",
   "execution_count": null,
   "metadata": {},
   "outputs": [],
   "source": [
    "from pydantic import BaseModel, AnyUrl, validate_call, AwareDatetime, field_validator\n",
    "from pyprediktormapclient.shared import request_from_api\n",
    "import datetime\n",
    "import json\n",
    "import re"
   ]
  },
  {
   "cell_type": "code",
   "execution_count": null,
   "metadata": {},
   "outputs": [],
   "source": [
    "class Ory_Login_Structure(BaseModel):\n",
    "    method: str\n",
    "    identifier: str\n",
    "    password: str"
   ]
  },
  {
   "cell_type": "code",
   "execution_count": null,
   "metadata": {},
   "outputs": [],
   "source": [
    "class Token(BaseModel):\n",
    "    access_token: str\n",
    "    expires_at: AwareDatetime = None\n",
    "    \n",
    "    @field_validator('expires_at', mode='before')\n",
    "    def remove_nanoseconds(cls, v):\n",
    "        if v is None:\n",
    "            return v\n",
    "        elif re.match(r\"(\\d\\d\\d\\d)-(\\d\\d)-(\\d\\d)T(\\d\\d):(\\d\\d):(\\d\\d).\\d+(\\S+)\", v):\n",
    "            return datetime.datetime.strptime(f\"{v[:-11]}.+00:00\", \"%Y-%m-%dT%H:%M:%S.%z\")\n",
    "        return v"
   ]
  },
  {
   "cell_type": "code",
   "execution_count": null,
   "metadata": {},
   "outputs": [],
   "source": [
    "rest_url = ory_url\n",
    "headers = {\"Content-Type\": \"application/json\"}"
   ]
  },
  {
   "cell_type": "code",
   "execution_count": null,
   "metadata": {},
   "outputs": [],
   "source": [
    "def request_from_api(\n",
    "    rest_url: AnyUrl,\n",
    "    method: Literal[\"GET\", \"POST\"],\n",
    "    endpoint: str,\n",
    "    data: str = None,\n",
    "    params: dict = None,\n",
    "    headers: dict = None,\n",
    "    extended_timeout: bool = False,\n",
    ") -> str:\n",
    "    \"\"\"Function to perform the request to the ModelIndex server\n",
    "\n",
    "    Args:\n",
    "        rest_url (str): The URL with trailing shash\n",
    "        method (str): \"GET\" or \"POST\"\n",
    "        endpoint (str): The last part of the url (without the leading slash)\n",
    "        data (str): defaults to None but can contain the data to send to the endpoint\n",
    "        headers (str): default to None but can contain the headers og the request\n",
    "    Returns:\n",
    "        JSON: The result if successfull\n",
    "    \"\"\"\n",
    "    request_timeout = (3, 300 if extended_timeout else 27)\n",
    "    combined_url = f\"{rest_url}{endpoint}\"\n",
    "\n",
    "    result = None\n",
    "    if method == \"GET\":\n",
    "        result = requests.get(combined_url, timeout=request_timeout, params=params, headers=headers)\n",
    "\n",
    "    if method == \"POST\":\n",
    "        result = requests.post(\n",
    "            combined_url, data=data, headers=headers, timeout=request_timeout, params=params\n",
    "        )\n",
    "    \n",
    "    result.raise_for_status()\n",
    "\n",
    "    if 'application/json' in result.headers.get('Content-Type', ''):\n",
    "        return result.json()\n",
    "\n",
    "    else:\n",
    "        logging.warning(f\"Non-JSON response received from {combined_url}\")\n",
    "        return {\"error\": \"Non-JSON response\", \"content\": result.text}"
   ]
  },
  {
   "cell_type": "code",
   "execution_count": null,
   "metadata": {},
   "outputs": [],
   "source": [
    "content = request_from_api(\n",
    "    rest_url=rest_url,\n",
    "    method=\"GET\",\n",
    "    endpoint=\"self-service/login/api\",\n",
    "    headers=headers,\n",
    "    extended_timeout=True,\n",
    ")"
   ]
  },
  {
   "cell_type": "code",
   "execution_count": null,
   "metadata": {},
   "outputs": [],
   "source": [
    "def get_login_id(content):\n",
    "    \"\"\"Request login token from Ory\"\"\"\n",
    "    print(\"Getting login ID...\")\n",
    "    \n",
    "    print(f\"Response for login ID: {content}\")\n",
    "\n",
    "    if \"error\" in content:\n",
    "        # Handle the error appropriately\n",
    "        raise RuntimeError(content[\"error\"])\n",
    "\n",
    "    if content.get(\"Success\") is False or not isinstance(content.get(\"id\"), str):\n",
    "        error_message = content.get(\"ErrorMessage\", \"Unknown error occurred during login.\")\n",
    "        raise RuntimeError(error_message)\n",
    "\n",
    "    id = content.get(\"id\")\n",
    "    return id"
   ]
  },
  {
   "cell_type": "code",
   "execution_count": null,
   "metadata": {},
   "outputs": [],
   "source": [
    "id = get_login_id(content)\n",
    "id"
   ]
  },
  {
   "cell_type": "code",
   "execution_count": null,
   "metadata": {},
   "outputs": [],
   "source": [
    "params = {\"flow\": id}\n",
    "body = (Ory_Login_Structure(method=\"password\", identifier=username, password=password).model_dump())"
   ]
  },
  {
   "cell_type": "code",
   "execution_count": null,
   "metadata": {},
   "outputs": [],
   "source": [
    "content = request_from_api(\n",
    "    rest_url=rest_url,\n",
    "    method=\"POST\",\n",
    "    endpoint=\"self-service/login\",\n",
    "    data=json.dumps(body),\n",
    "    params=params,\n",
    "    headers=headers,\n",
    "    extended_timeout=True,\n",
    ")"
   ]
  },
  {
   "cell_type": "code",
   "execution_count": null,
   "metadata": {},
   "outputs": [],
   "source": [
    "def get_login_token(content) -> None:\n",
    "    \"\"\"Request login token from Ory\"\"\"\n",
    "    print(\"Getting login token...\")\n",
    "    \n",
    "    print(f\"Response for login token: {content}\")\n",
    "\n",
    "    if content.get(\"Success\") is False:\n",
    "        raise RuntimeError(content.get(\"ErrorMessage\"))\n",
    "    \n",
    "    # Return if no content from server\n",
    "    if not isinstance(content.get(\"session_token\"), str):\n",
    "        raise RuntimeError(content.get(\"ErrorMessage\"))\n",
    "    token = Token(access_token=content.get(\"session_token\"))\n",
    "\n",
    "    # Check if token has expiry date, save it if it does\n",
    "    if isinstance(content.get(\"session\").get(\"expires_at\"), str):\n",
    "        # String returned from ory has to many chars in microsec. Remove them\n",
    "        #from_string = content.get(\"session\").get(\"expires_at\")\n",
    "        #date_object = datetime.datetime.strptime(f\"{from_string[:-11]}.+00:00\", \"%Y-%m-%dT%H:%M:%S.%z\")\n",
    "        try:\n",
    "            token = Token(access_token=token.access_token, expires_at=content.get(\"session\").get(\"expires_at\"))\n",
    "        except Exception:\n",
    "            # If string returned from Ory cant be parsed, still should be possible to use Ory,\n",
    "            #  might be a setting in Ory to not return expiry date\n",
    "            token = Token(access_token=token.access_token)"
   ]
  },
  {
   "cell_type": "code",
   "execution_count": null,
   "metadata": {},
   "outputs": [],
   "source": [
    "token = get_login_token(content)\n",
    "token"
   ]
  },
  {
   "cell_type": "code",
   "execution_count": null,
   "metadata": {},
   "outputs": [],
   "source": [
    "def check_if_token_has_expired() -> bool:\n",
    "    \"\"\"Check if token has expired\n",
    "    \"\"\"\n",
    "    if token is None or token.expires_at is None:\n",
    "        return True\n",
    "\n",
    "    return datetime.datetime.utcnow() > token.expires_at"
   ]
  },
  {
   "cell_type": "code",
   "execution_count": null,
   "metadata": {},
   "outputs": [],
   "source": [
    "check_if_token_has_expired()"
   ]
  },
  {
   "cell_type": "code",
   "execution_count": null,
   "metadata": {},
   "outputs": [],
   "source": [
    "model_data = ModelIndex(url=model_index_url, auth_client=token)\n",
    "model_data"
   ]
  },
  {
   "cell_type": "code",
   "execution_count": null,
   "metadata": {},
   "outputs": [],
   "source": [
    "def get_namespace_array() -> str:\n",
    "    \"\"\"Get the namespace array\n",
    "\n",
    "    Returns:\n",
    "        str: the JSON returned from the server\n",
    "    \"\"\"\n",
    "    content = request_from_api(model_index_url, \"GET\", \"query/namespace-array\")\n",
    "\n",
    "    return content"
   ]
  },
  {
   "cell_type": "code",
   "execution_count": null,
   "metadata": {},
   "outputs": [],
   "source": [
    "# Listed sites on the model index api server\n",
    "namespaces = model_data.get_namespace_array()\n",
    "namespaces"
   ]
  },
  {
   "cell_type": "code",
   "execution_count": null,
   "metadata": {},
   "outputs": [],
   "source": [
    "def request_new_ory_token() :\n",
    "    \"\"\"Request Ory token\"\"\"\n",
    "    print(\"Requesting new ORY token...\")\n",
    "    get_login_id()\n",
    "    get_login_token()\n",
    "    print(\"New ORY token requested.\")"
   ]
  }
 ],
 "metadata": {
  "kernelspec": {
   "display_name": ".venv_auth",
   "language": "python",
   "name": "python3"
  },
  "language_info": {
   "codemirror_mode": {
    "name": "ipython",
    "version": 3
   },
   "file_extension": ".py",
   "mimetype": "text/x-python",
   "name": "python",
   "nbconvert_exporter": "python",
   "pygments_lexer": "ipython3",
   "version": "3.11.8"
  }
 },
 "nbformat": 4,
 "nbformat_minor": 2
}
